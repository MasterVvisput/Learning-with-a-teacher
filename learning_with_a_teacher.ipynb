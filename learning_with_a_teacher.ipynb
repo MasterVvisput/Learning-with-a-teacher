{
 "cells": [
  {
   "cell_type": "markdown",
   "metadata": {
    "toc": true
   },
   "source": [
    "<h1>Содержание<span class=\"tocSkip\"></span></h1>\n",
    "<div class=\"toc\"><ul class=\"toc-item\"><li><span><a href=\"#Подготовка-данных\" data-toc-modified-id=\"Подготовка-данных-1\"><span class=\"toc-item-num\">1&nbsp;&nbsp;</span>Подготовка данных</a></span><ul class=\"toc-item\"><li><span><a href=\"#Открыть-файл\" data-toc-modified-id=\"Открыть-файл-1.1\"><span class=\"toc-item-num\">1.1&nbsp;&nbsp;</span>Открыть файл</a></span></li><li><span><a href=\"#Проверить-первые-5-строк-датафрейма\" data-toc-modified-id=\"Проверить-первые-5-строк-датафрейма-1.2\"><span class=\"toc-item-num\">1.2&nbsp;&nbsp;</span>Проверить первые 5 строк датафрейма</a></span></li><li><span><a href=\"#Информация-о-датафрейме\" data-toc-modified-id=\"Информация-о-датафрейме-1.3\"><span class=\"toc-item-num\">1.3&nbsp;&nbsp;</span>Информация о датафрейме</a></span></li><li><span><a href=\"#Проверка-на-пропуски\" data-toc-modified-id=\"Проверка-на-пропуски-1.4\"><span class=\"toc-item-num\">1.4&nbsp;&nbsp;</span>Проверка на пропуски</a></span><ul class=\"toc-item\"><li><span><a href=\"#Удалить-пропуски\" data-toc-modified-id=\"Удалить-пропуски-1.4.1\"><span class=\"toc-item-num\">1.4.1&nbsp;&nbsp;</span>Удалить пропуски</a></span></li></ul></li><li><span><a href=\"#Привести-название-колонок-к-стандарту\" data-toc-modified-id=\"Привести-название-колонок-к-стандарту-1.5\"><span class=\"toc-item-num\">1.5&nbsp;&nbsp;</span>Привести название колонок к стандарту</a></span></li><li><span><a href=\"#Проверить-датафрейм-на-дубли\" data-toc-modified-id=\"Проверить-датафрейм-на-дубли-1.6\"><span class=\"toc-item-num\">1.6&nbsp;&nbsp;</span>Проверить датафрейм на дубли</a></span></li><li><span><a href=\"#Удалить-колонку-row_number\" data-toc-modified-id=\"Удалить-колонку-row_number-1.7\"><span class=\"toc-item-num\">1.7&nbsp;&nbsp;</span>Удалить колонку row_number</a></span></li><li><span><a href=\"#Удалить-колонку-customer_id\" data-toc-modified-id=\"Удалить-колонку-customer_id-1.8\"><span class=\"toc-item-num\">1.8&nbsp;&nbsp;</span>Удалить колонку customer_id</a></span></li><li><span><a href=\"#Удалить-колонку-surname\" data-toc-modified-id=\"Удалить-колонку-surname-1.9\"><span class=\"toc-item-num\">1.9&nbsp;&nbsp;</span>Удалить колонку surname</a></span></li><li><span><a href=\"#Вывести-корреляцию-признаков\" data-toc-modified-id=\"Вывести-корреляцию-признаков-1.10\"><span class=\"toc-item-num\">1.10&nbsp;&nbsp;</span>Вывести корреляцию признаков</a></span></li><li><span><a href=\"#Выполнить-прямое-кодирование\" data-toc-modified-id=\"Выполнить-прямое-кодирование-1.11\"><span class=\"toc-item-num\">1.11&nbsp;&nbsp;</span>Выполнить прямое кодирование</a></span></li><li><span><a href=\"#Выводы-подготовки-данных\" data-toc-modified-id=\"Выводы-подготовки-данных-1.12\"><span class=\"toc-item-num\">1.12&nbsp;&nbsp;</span>Выводы подготовки данных</a></span></li></ul></li><li><span><a href=\"#Исследование-задачи\" data-toc-modified-id=\"Исследование-задачи-2\"><span class=\"toc-item-num\">2&nbsp;&nbsp;</span>Исследование задачи</a></span><ul class=\"toc-item\"><li><span><a href=\"#Исследовать-баланс-классов\" data-toc-modified-id=\"Исследовать-баланс-классов-2.1\"><span class=\"toc-item-num\">2.1&nbsp;&nbsp;</span>Исследовать баланс классов</a></span></li><li><span><a href=\"#Сформировать-тренировочную,-валидационную-и-тестовую-выборки\" data-toc-modified-id=\"Сформировать-тренировочную,-валидационную-и-тестовую-выборки-2.2\"><span class=\"toc-item-num\">2.2&nbsp;&nbsp;</span>Сформировать тренировочную, валидационную и тестовую выборки</a></span></li><li><span><a href=\"#Изучить-модели-без-учета-дисбаланса-и-без-масштабирования\" data-toc-modified-id=\"Изучить-модели-без-учета-дисбаланса-и-без-масштабирования-2.3\"><span class=\"toc-item-num\">2.3&nbsp;&nbsp;</span>Изучить модели без учета дисбаланса и без масштабирования</a></span><ul class=\"toc-item\"><li><span><a href=\"#LogisticRegression\" data-toc-modified-id=\"LogisticRegression-2.3.1\"><span class=\"toc-item-num\">2.3.1&nbsp;&nbsp;</span>LogisticRegression</a></span></li><li><span><a href=\"#DecisionTreeClassifier\" data-toc-modified-id=\"DecisionTreeClassifier-2.3.2\"><span class=\"toc-item-num\">2.3.2&nbsp;&nbsp;</span>DecisionTreeClassifier</a></span></li><li><span><a href=\"#RandomForestClassifier\" data-toc-modified-id=\"RandomForestClassifier-2.3.3\"><span class=\"toc-item-num\">2.3.3&nbsp;&nbsp;</span>RandomForestClassifier</a></span></li></ul></li><li><span><a href=\"#Изучить-модели-без-учета-дисбаланса-и-c-масштабированием\" data-toc-modified-id=\"Изучить-модели-без-учета-дисбаланса-и-c-масштабированием-2.4\"><span class=\"toc-item-num\">2.4&nbsp;&nbsp;</span>Изучить модели без учета дисбаланса и c масштабированием</a></span><ul class=\"toc-item\"><li><span><a href=\"#Масштабировать-признаки\" data-toc-modified-id=\"Масштабировать-признаки-2.4.1\"><span class=\"toc-item-num\">2.4.1&nbsp;&nbsp;</span>Масштабировать признаки</a></span></li><li><span><a href=\"#LogisticRegression\" data-toc-modified-id=\"LogisticRegression-2.4.2\"><span class=\"toc-item-num\">2.4.2&nbsp;&nbsp;</span>LogisticRegression</a></span></li><li><span><a href=\"#DecisionTreeClassifier\" data-toc-modified-id=\"DecisionTreeClassifier-2.4.3\"><span class=\"toc-item-num\">2.4.3&nbsp;&nbsp;</span>DecisionTreeClassifier</a></span></li><li><span><a href=\"#RandomForestClassifier\" data-toc-modified-id=\"RandomForestClassifier-2.4.4\"><span class=\"toc-item-num\">2.4.4&nbsp;&nbsp;</span>RandomForestClassifier</a></span></li></ul></li><li><span><a href=\"#Выводы-по-исследованию-задачи\" data-toc-modified-id=\"Выводы-по-исследованию-задачи-2.5\"><span class=\"toc-item-num\">2.5&nbsp;&nbsp;</span>Выводы по исследованию задачи</a></span></li></ul></li><li><span><a href=\"#Борьба-с-дисбалансом\" data-toc-modified-id=\"Борьба-с-дисбалансом-3\"><span class=\"toc-item-num\">3&nbsp;&nbsp;</span>Борьба с дисбалансом</a></span><ul class=\"toc-item\"><li><span><a href=\"#Взвешивание-классов\" data-toc-modified-id=\"Взвешивание-классов-3.1\"><span class=\"toc-item-num\">3.1&nbsp;&nbsp;</span>Взвешивание классов</a></span><ul class=\"toc-item\"><li><span><a href=\"#LogisticRegression\" data-toc-modified-id=\"LogisticRegression-3.1.1\"><span class=\"toc-item-num\">3.1.1&nbsp;&nbsp;</span>LogisticRegression</a></span></li><li><span><a href=\"#DecisionTreeClassifier\" data-toc-modified-id=\"DecisionTreeClassifier-3.1.2\"><span class=\"toc-item-num\">3.1.2&nbsp;&nbsp;</span>DecisionTreeClassifier</a></span></li><li><span><a href=\"#RandomForestClassifier\" data-toc-modified-id=\"RandomForestClassifier-3.1.3\"><span class=\"toc-item-num\">3.1.3&nbsp;&nbsp;</span>RandomForestClassifier</a></span></li></ul></li><li><span><a href=\"#Увеличение-выборки\" data-toc-modified-id=\"Увеличение-выборки-3.2\"><span class=\"toc-item-num\">3.2&nbsp;&nbsp;</span>Увеличение выборки</a></span><ul class=\"toc-item\"><li><span><a href=\"#LogisticRegression\" data-toc-modified-id=\"LogisticRegression-3.2.1\"><span class=\"toc-item-num\">3.2.1&nbsp;&nbsp;</span>LogisticRegression</a></span></li><li><span><a href=\"#DecisionTreeClassifier\" data-toc-modified-id=\"DecisionTreeClassifier-3.2.2\"><span class=\"toc-item-num\">3.2.2&nbsp;&nbsp;</span>DecisionTreeClassifier</a></span></li><li><span><a href=\"#RandomForestClassifier\" data-toc-modified-id=\"RandomForestClassifier-3.2.3\"><span class=\"toc-item-num\">3.2.3&nbsp;&nbsp;</span>RandomForestClassifier</a></span></li></ul></li><li><span><a href=\"#Изменение-порога\" data-toc-modified-id=\"Изменение-порога-3.3\"><span class=\"toc-item-num\">3.3&nbsp;&nbsp;</span>Изменение порога</a></span><ul class=\"toc-item\"><li><span><a href=\"#LogisticRegression\" data-toc-modified-id=\"LogisticRegression-3.3.1\"><span class=\"toc-item-num\">3.3.1&nbsp;&nbsp;</span>LogisticRegression</a></span></li><li><span><a href=\"#DecisionTreeClassifier\" data-toc-modified-id=\"DecisionTreeClassifier-3.3.2\"><span class=\"toc-item-num\">3.3.2&nbsp;&nbsp;</span>DecisionTreeClassifier</a></span></li><li><span><a href=\"#RandomForestClassifier\" data-toc-modified-id=\"RandomForestClassifier-3.3.3\"><span class=\"toc-item-num\">3.3.3&nbsp;&nbsp;</span>RandomForestClassifier</a></span></li></ul></li><li><span><a href=\"#Выводы-борьбы-с-дисбалансом\" data-toc-modified-id=\"Выводы-борьбы-с-дисбалансом-3.4\"><span class=\"toc-item-num\">3.4&nbsp;&nbsp;</span>Выводы борьбы с дисбалансом</a></span></li></ul></li><li><span><a href=\"#Тестирование-модели\" data-toc-modified-id=\"Тестирование-модели-4\"><span class=\"toc-item-num\">4&nbsp;&nbsp;</span>Тестирование модели</a></span><ul class=\"toc-item\"><li><span><a href=\"#Выводы-по-тестированию-модели.\" data-toc-modified-id=\"Выводы-по-тестированию-модели.-4.1\"><span class=\"toc-item-num\">4.1&nbsp;&nbsp;</span>Выводы по тестированию модели.</a></span></li></ul></li><li><span><a href=\"#Общий-вывод\" data-toc-modified-id=\"Общий-вывод-5\"><span class=\"toc-item-num\">5&nbsp;&nbsp;</span>Общий вывод</a></span></li><li><span><a href=\"#Чек-лист-готовности-проекта\" data-toc-modified-id=\"Чек-лист-готовности-проекта-6\"><span class=\"toc-item-num\">6&nbsp;&nbsp;</span>Чек-лист готовности проекта</a></span></li></ul></div>"
   ]
  },
  {
   "cell_type": "markdown",
   "metadata": {},
   "source": [
    "# Отток клиентов. Исследование"
   ]
  },
  {
   "cell_type": "markdown",
   "metadata": {},
   "source": [
    "***Вводная информация:***\n",
    "\n",
    "Из «Бета-Банка» стали уходить клиенты. Каждый месяц. Немного, но заметно. Банковские маркетологи посчитали: сохранять текущих клиентов дешевле, чем привлекать новых.\n",
    "\n",
    "***Задача исследования:***\n",
    "\n",
    "Нужно спрогнозировать, уйдёт клиент из банка в ближайшее время или нет. Для этого мы будем решать задачу классификации методом машинного обучения с учителем.        \n",
    "\n",
    "***Цель исследования:***\n",
    "\n",
    "- Построить модель с предельно большим значением *F1*-меры. Нужно довести метрику до 0.59. \n",
    "- Проверить *F1*-меру на тестовой выборке.\n",
    "- Дополнительно измерить *AUC-ROC*, сравнить её значение с *F1*-мерой.\n",
    "\n",
    "***Описание данных:***\n",
    "\n",
    "- Источник данных: [https://www.kaggle.com/barelydedicated/bank-customer-churn-modeling](https://www.kaggle.com/barelydedicated/bank-customer-churn-modeling)\n",
    "- Нам предоставлены исторические данные о поведении клиентов и расторжении договоров с банком.\n",
    "\n",
    "_Признаки:_               \n",
    "\n",
    "```RowNumber``` — индекс строки в данных               \n",
    "```CustomerId``` — уникальный идентификатор клиента               \n",
    "```Surname``` — фамилия               \n",
    "```CreditScore``` — кредитный рейтинг               \n",
    "```Geography``` — страна проживания               \n",
    "```Gender``` — пол               \n",
    "```Age``` — возраст               \n",
    "```Tenure``` — сколько лет человек является клиентом банка               \n",
    "```Balance``` — баланс на счёте               \n",
    "```NumOfProducts``` — количество продуктов банка, используемых клиентом               \n",
    "```HasCrCard``` — наличие кредитной карты               \n",
    "```IsActiveMember``` — активность клиента               \n",
    "```EstimatedSalary``` — предполагаемая зарплата               \n",
    "\n",
    "_Целевой признак:_               \n",
    "\n",
    "```Exited``` — факт ухода клиента               "
   ]
  },
  {
   "cell_type": "markdown",
   "metadata": {},
   "source": [
    "Необходимые библиотеки:"
   ]
  },
  {
   "cell_type": "code",
   "execution_count": 38,
   "metadata": {},
   "outputs": [],
   "source": [
    "import pandas as pd\n",
    "import seaborn as sns\n",
    "from sklearn.utils import shuffle\n",
    "import matplotlib.pyplot as plt\n",
    "import numpy as np\n",
    "from sklearn.tree import DecisionTreeClassifier\n",
    "from sklearn.ensemble import RandomForestClassifier\n",
    "from sklearn.linear_model import LogisticRegression\n",
    "from sklearn.model_selection import train_test_split\n",
    "from sklearn.preprocessing import StandardScaler\n",
    "from sklearn.metrics import precision_score, accuracy_score, f1_score, roc_auc_score"
   ]
  },
  {
   "cell_type": "markdown",
   "metadata": {},
   "source": [
    "## Подготовка данных"
   ]
  },
  {
   "cell_type": "markdown",
   "metadata": {},
   "source": [
    "### Открыть файл"
   ]
  },
  {
   "cell_type": "code",
   "execution_count": 39,
   "metadata": {},
   "outputs": [],
   "source": [
    "data = pd.read_csv('/datasets/Churn.csv')"
   ]
  },
  {
   "cell_type": "markdown",
   "metadata": {},
   "source": [
    "### Проверить первые 5 строк датафрейма"
   ]
  },
  {
   "cell_type": "code",
   "execution_count": 40,
   "metadata": {
    "scrolled": false
   },
   "outputs": [
    {
     "data": {
      "text/html": [
       "<div>\n",
       "<style scoped>\n",
       "    .dataframe tbody tr th:only-of-type {\n",
       "        vertical-align: middle;\n",
       "    }\n",
       "\n",
       "    .dataframe tbody tr th {\n",
       "        vertical-align: top;\n",
       "    }\n",
       "\n",
       "    .dataframe thead th {\n",
       "        text-align: right;\n",
       "    }\n",
       "</style>\n",
       "<table border=\"1\" class=\"dataframe\">\n",
       "  <thead>\n",
       "    <tr style=\"text-align: right;\">\n",
       "      <th></th>\n",
       "      <th>RowNumber</th>\n",
       "      <th>CustomerId</th>\n",
       "      <th>Surname</th>\n",
       "      <th>CreditScore</th>\n",
       "      <th>Geography</th>\n",
       "      <th>Gender</th>\n",
       "      <th>Age</th>\n",
       "      <th>Tenure</th>\n",
       "      <th>Balance</th>\n",
       "      <th>NumOfProducts</th>\n",
       "      <th>HasCrCard</th>\n",
       "      <th>IsActiveMember</th>\n",
       "      <th>EstimatedSalary</th>\n",
       "      <th>Exited</th>\n",
       "    </tr>\n",
       "  </thead>\n",
       "  <tbody>\n",
       "    <tr>\n",
       "      <th>0</th>\n",
       "      <td>1</td>\n",
       "      <td>15634602</td>\n",
       "      <td>Hargrave</td>\n",
       "      <td>619</td>\n",
       "      <td>France</td>\n",
       "      <td>Female</td>\n",
       "      <td>42</td>\n",
       "      <td>2.0</td>\n",
       "      <td>0.00</td>\n",
       "      <td>1</td>\n",
       "      <td>1</td>\n",
       "      <td>1</td>\n",
       "      <td>101348.88</td>\n",
       "      <td>1</td>\n",
       "    </tr>\n",
       "    <tr>\n",
       "      <th>1</th>\n",
       "      <td>2</td>\n",
       "      <td>15647311</td>\n",
       "      <td>Hill</td>\n",
       "      <td>608</td>\n",
       "      <td>Spain</td>\n",
       "      <td>Female</td>\n",
       "      <td>41</td>\n",
       "      <td>1.0</td>\n",
       "      <td>83807.86</td>\n",
       "      <td>1</td>\n",
       "      <td>0</td>\n",
       "      <td>1</td>\n",
       "      <td>112542.58</td>\n",
       "      <td>0</td>\n",
       "    </tr>\n",
       "    <tr>\n",
       "      <th>2</th>\n",
       "      <td>3</td>\n",
       "      <td>15619304</td>\n",
       "      <td>Onio</td>\n",
       "      <td>502</td>\n",
       "      <td>France</td>\n",
       "      <td>Female</td>\n",
       "      <td>42</td>\n",
       "      <td>8.0</td>\n",
       "      <td>159660.80</td>\n",
       "      <td>3</td>\n",
       "      <td>1</td>\n",
       "      <td>0</td>\n",
       "      <td>113931.57</td>\n",
       "      <td>1</td>\n",
       "    </tr>\n",
       "    <tr>\n",
       "      <th>3</th>\n",
       "      <td>4</td>\n",
       "      <td>15701354</td>\n",
       "      <td>Boni</td>\n",
       "      <td>699</td>\n",
       "      <td>France</td>\n",
       "      <td>Female</td>\n",
       "      <td>39</td>\n",
       "      <td>1.0</td>\n",
       "      <td>0.00</td>\n",
       "      <td>2</td>\n",
       "      <td>0</td>\n",
       "      <td>0</td>\n",
       "      <td>93826.63</td>\n",
       "      <td>0</td>\n",
       "    </tr>\n",
       "    <tr>\n",
       "      <th>4</th>\n",
       "      <td>5</td>\n",
       "      <td>15737888</td>\n",
       "      <td>Mitchell</td>\n",
       "      <td>850</td>\n",
       "      <td>Spain</td>\n",
       "      <td>Female</td>\n",
       "      <td>43</td>\n",
       "      <td>2.0</td>\n",
       "      <td>125510.82</td>\n",
       "      <td>1</td>\n",
       "      <td>1</td>\n",
       "      <td>1</td>\n",
       "      <td>79084.10</td>\n",
       "      <td>0</td>\n",
       "    </tr>\n",
       "  </tbody>\n",
       "</table>\n",
       "</div>"
      ],
      "text/plain": [
       "   RowNumber  CustomerId   Surname  CreditScore Geography  Gender  Age  \\\n",
       "0          1    15634602  Hargrave          619    France  Female   42   \n",
       "1          2    15647311      Hill          608     Spain  Female   41   \n",
       "2          3    15619304      Onio          502    France  Female   42   \n",
       "3          4    15701354      Boni          699    France  Female   39   \n",
       "4          5    15737888  Mitchell          850     Spain  Female   43   \n",
       "\n",
       "   Tenure    Balance  NumOfProducts  HasCrCard  IsActiveMember  \\\n",
       "0     2.0       0.00              1          1               1   \n",
       "1     1.0   83807.86              1          0               1   \n",
       "2     8.0  159660.80              3          1               0   \n",
       "3     1.0       0.00              2          0               0   \n",
       "4     2.0  125510.82              1          1               1   \n",
       "\n",
       "   EstimatedSalary  Exited  \n",
       "0        101348.88       1  \n",
       "1        112542.58       0  \n",
       "2        113931.57       1  \n",
       "3         93826.63       0  \n",
       "4         79084.10       0  "
      ]
     },
     "execution_count": 40,
     "metadata": {},
     "output_type": "execute_result"
    }
   ],
   "source": [
    "data.head()"
   ]
  },
  {
   "cell_type": "markdown",
   "metadata": {},
   "source": [
    "### Информация о датафрейме"
   ]
  },
  {
   "cell_type": "code",
   "execution_count": 41,
   "metadata": {
    "scrolled": false
   },
   "outputs": [
    {
     "name": "stdout",
     "output_type": "stream",
     "text": [
      "<class 'pandas.core.frame.DataFrame'>\n",
      "RangeIndex: 10000 entries, 0 to 9999\n",
      "Data columns (total 14 columns):\n",
      " #   Column           Non-Null Count  Dtype  \n",
      "---  ------           --------------  -----  \n",
      " 0   RowNumber        10000 non-null  int64  \n",
      " 1   CustomerId       10000 non-null  int64  \n",
      " 2   Surname          10000 non-null  object \n",
      " 3   CreditScore      10000 non-null  int64  \n",
      " 4   Geography        10000 non-null  object \n",
      " 5   Gender           10000 non-null  object \n",
      " 6   Age              10000 non-null  int64  \n",
      " 7   Tenure           9091 non-null   float64\n",
      " 8   Balance          10000 non-null  float64\n",
      " 9   NumOfProducts    10000 non-null  int64  \n",
      " 10  HasCrCard        10000 non-null  int64  \n",
      " 11  IsActiveMember   10000 non-null  int64  \n",
      " 12  EstimatedSalary  10000 non-null  float64\n",
      " 13  Exited           10000 non-null  int64  \n",
      "dtypes: float64(3), int64(8), object(3)\n",
      "memory usage: 1.1+ MB\n"
     ]
    }
   ],
   "source": [
    "data.info()"
   ]
  },
  {
   "cell_type": "markdown",
   "metadata": {},
   "source": [
    "### Проверка на пропуски"
   ]
  },
  {
   "cell_type": "code",
   "execution_count": 42,
   "metadata": {
    "scrolled": true
   },
   "outputs": [
    {
     "data": {
      "text/plain": [
       "RowNumber            0\n",
       "CustomerId           0\n",
       "Surname              0\n",
       "CreditScore          0\n",
       "Geography            0\n",
       "Gender               0\n",
       "Age                  0\n",
       "Tenure             909\n",
       "Balance              0\n",
       "NumOfProducts        0\n",
       "HasCrCard            0\n",
       "IsActiveMember       0\n",
       "EstimatedSalary      0\n",
       "Exited               0\n",
       "dtype: int64"
      ]
     },
     "execution_count": 42,
     "metadata": {},
     "output_type": "execute_result"
    }
   ],
   "source": [
    "data.isna().sum()"
   ]
  },
  {
   "cell_type": "markdown",
   "metadata": {},
   "source": [
    "#### Удалить пропуски"
   ]
  },
  {
   "cell_type": "code",
   "execution_count": 43,
   "metadata": {},
   "outputs": [
    {
     "data": {
      "text/plain": [
       "(10000, 14)"
      ]
     },
     "execution_count": 43,
     "metadata": {},
     "output_type": "execute_result"
    }
   ],
   "source": [
    "# размер датафрейма до изменений\n",
    "data.shape"
   ]
  },
  {
   "cell_type": "code",
   "execution_count": 44,
   "metadata": {},
   "outputs": [],
   "source": [
    "data = data.dropna(subset=['Tenure'])"
   ]
  },
  {
   "cell_type": "code",
   "execution_count": 45,
   "metadata": {},
   "outputs": [
    {
     "data": {
      "text/plain": [
       "(9091, 14)"
      ]
     },
     "execution_count": 45,
     "metadata": {},
     "output_type": "execute_result"
    }
   ],
   "source": [
    "# размер датафрейма после изменений\n",
    "data.shape"
   ]
  },
  {
   "cell_type": "markdown",
   "metadata": {},
   "source": [
    "### Привести название колонок к стандарту"
   ]
  },
  {
   "cell_type": "code",
   "execution_count": 46,
   "metadata": {},
   "outputs": [
    {
     "data": {
      "text/plain": [
       "Index(['RowNumber', 'CustomerId', 'Surname', 'CreditScore', 'Geography',\n",
       "       'Gender', 'Age', 'Tenure', 'Balance', 'NumOfProducts', 'HasCrCard',\n",
       "       'IsActiveMember', 'EstimatedSalary', 'Exited'],\n",
       "      dtype='object')"
      ]
     },
     "execution_count": 46,
     "metadata": {},
     "output_type": "execute_result"
    }
   ],
   "source": [
    "data.columns"
   ]
  },
  {
   "cell_type": "code",
   "execution_count": 47,
   "metadata": {},
   "outputs": [],
   "source": [
    "data.columns = ['row_number', 'customer_id', 'surname', 'credit_score', 'geography',\n",
    "       'gender', 'age', 'tenure', 'balance', 'num_of_products', 'has_cr_card',\n",
    "       'is_active_member', 'estimated_salary', 'exited']"
   ]
  },
  {
   "cell_type": "code",
   "execution_count": 48,
   "metadata": {
    "scrolled": false
   },
   "outputs": [
    {
     "name": "stdout",
     "output_type": "stream",
     "text": [
      "<class 'pandas.core.frame.DataFrame'>\n",
      "Int64Index: 9091 entries, 0 to 9998\n",
      "Data columns (total 14 columns):\n",
      " #   Column            Non-Null Count  Dtype  \n",
      "---  ------            --------------  -----  \n",
      " 0   row_number        9091 non-null   int64  \n",
      " 1   customer_id       9091 non-null   int64  \n",
      " 2   surname           9091 non-null   object \n",
      " 3   credit_score      9091 non-null   int64  \n",
      " 4   geography         9091 non-null   object \n",
      " 5   gender            9091 non-null   object \n",
      " 6   age               9091 non-null   int64  \n",
      " 7   tenure            9091 non-null   float64\n",
      " 8   balance           9091 non-null   float64\n",
      " 9   num_of_products   9091 non-null   int64  \n",
      " 10  has_cr_card       9091 non-null   int64  \n",
      " 11  is_active_member  9091 non-null   int64  \n",
      " 12  estimated_salary  9091 non-null   float64\n",
      " 13  exited            9091 non-null   int64  \n",
      "dtypes: float64(3), int64(8), object(3)\n",
      "memory usage: 1.0+ MB\n"
     ]
    }
   ],
   "source": [
    "data.info()"
   ]
  },
  {
   "cell_type": "markdown",
   "metadata": {},
   "source": [
    "### Проверить датафрейм на дубли"
   ]
  },
  {
   "cell_type": "code",
   "execution_count": 49,
   "metadata": {},
   "outputs": [
    {
     "data": {
      "text/plain": [
       "0"
      ]
     },
     "execution_count": 49,
     "metadata": {},
     "output_type": "execute_result"
    }
   ],
   "source": [
    "data.duplicated().sum()"
   ]
  },
  {
   "cell_type": "markdown",
   "metadata": {},
   "source": [
    "### Удалить колонку row_number"
   ]
  },
  {
   "cell_type": "code",
   "execution_count": 50,
   "metadata": {},
   "outputs": [
    {
     "data": {
      "text/plain": [
       "0"
      ]
     },
     "execution_count": 50,
     "metadata": {},
     "output_type": "execute_result"
    }
   ],
   "source": [
    "data['row_number'].duplicated().sum()"
   ]
  },
  {
   "cell_type": "code",
   "execution_count": 51,
   "metadata": {
    "scrolled": false
   },
   "outputs": [],
   "source": [
    "data = data.drop(['row_number'], axis=1)"
   ]
  },
  {
   "cell_type": "code",
   "execution_count": 52,
   "metadata": {
    "scrolled": true
   },
   "outputs": [
    {
     "name": "stdout",
     "output_type": "stream",
     "text": [
      "<class 'pandas.core.frame.DataFrame'>\n",
      "Int64Index: 9091 entries, 0 to 9998\n",
      "Data columns (total 13 columns):\n",
      " #   Column            Non-Null Count  Dtype  \n",
      "---  ------            --------------  -----  \n",
      " 0   customer_id       9091 non-null   int64  \n",
      " 1   surname           9091 non-null   object \n",
      " 2   credit_score      9091 non-null   int64  \n",
      " 3   geography         9091 non-null   object \n",
      " 4   gender            9091 non-null   object \n",
      " 5   age               9091 non-null   int64  \n",
      " 6   tenure            9091 non-null   float64\n",
      " 7   balance           9091 non-null   float64\n",
      " 8   num_of_products   9091 non-null   int64  \n",
      " 9   has_cr_card       9091 non-null   int64  \n",
      " 10  is_active_member  9091 non-null   int64  \n",
      " 11  estimated_salary  9091 non-null   float64\n",
      " 12  exited            9091 non-null   int64  \n",
      "dtypes: float64(3), int64(7), object(3)\n",
      "memory usage: 994.3+ KB\n"
     ]
    }
   ],
   "source": [
    "data.info()"
   ]
  },
  {
   "cell_type": "markdown",
   "metadata": {},
   "source": [
    "### Удалить колонку customer_id"
   ]
  },
  {
   "cell_type": "code",
   "execution_count": 53,
   "metadata": {},
   "outputs": [
    {
     "data": {
      "text/plain": [
       "0"
      ]
     },
     "execution_count": 53,
     "metadata": {},
     "output_type": "execute_result"
    }
   ],
   "source": [
    "data['customer_id'].duplicated().sum()"
   ]
  },
  {
   "cell_type": "code",
   "execution_count": 54,
   "metadata": {},
   "outputs": [],
   "source": [
    "data = data.drop(['customer_id'], axis=1)"
   ]
  },
  {
   "cell_type": "code",
   "execution_count": 55,
   "metadata": {
    "scrolled": true
   },
   "outputs": [
    {
     "name": "stdout",
     "output_type": "stream",
     "text": [
      "<class 'pandas.core.frame.DataFrame'>\n",
      "Int64Index: 9091 entries, 0 to 9998\n",
      "Data columns (total 12 columns):\n",
      " #   Column            Non-Null Count  Dtype  \n",
      "---  ------            --------------  -----  \n",
      " 0   surname           9091 non-null   object \n",
      " 1   credit_score      9091 non-null   int64  \n",
      " 2   geography         9091 non-null   object \n",
      " 3   gender            9091 non-null   object \n",
      " 4   age               9091 non-null   int64  \n",
      " 5   tenure            9091 non-null   float64\n",
      " 6   balance           9091 non-null   float64\n",
      " 7   num_of_products   9091 non-null   int64  \n",
      " 8   has_cr_card       9091 non-null   int64  \n",
      " 9   is_active_member  9091 non-null   int64  \n",
      " 10  estimated_salary  9091 non-null   float64\n",
      " 11  exited            9091 non-null   int64  \n",
      "dtypes: float64(3), int64(6), object(3)\n",
      "memory usage: 923.3+ KB\n"
     ]
    }
   ],
   "source": [
    "data.info()"
   ]
  },
  {
   "cell_type": "markdown",
   "metadata": {},
   "source": [
    "### Удалить колонку surname"
   ]
  },
  {
   "cell_type": "code",
   "execution_count": 56,
   "metadata": {},
   "outputs": [],
   "source": [
    "data = data.drop(['surname'], axis=1)"
   ]
  },
  {
   "cell_type": "markdown",
   "metadata": {},
   "source": [
    "### Вывести корреляцию признаков"
   ]
  },
  {
   "cell_type": "code",
   "execution_count": 57,
   "metadata": {
    "scrolled": false
   },
   "outputs": [
    {
     "data": {
      "text/html": [
       "<div>\n",
       "<style scoped>\n",
       "    .dataframe tbody tr th:only-of-type {\n",
       "        vertical-align: middle;\n",
       "    }\n",
       "\n",
       "    .dataframe tbody tr th {\n",
       "        vertical-align: top;\n",
       "    }\n",
       "\n",
       "    .dataframe thead th {\n",
       "        text-align: right;\n",
       "    }\n",
       "</style>\n",
       "<table border=\"1\" class=\"dataframe\">\n",
       "  <thead>\n",
       "    <tr style=\"text-align: right;\">\n",
       "      <th></th>\n",
       "      <th>credit_score</th>\n",
       "      <th>age</th>\n",
       "      <th>tenure</th>\n",
       "      <th>balance</th>\n",
       "      <th>num_of_products</th>\n",
       "      <th>has_cr_card</th>\n",
       "      <th>is_active_member</th>\n",
       "      <th>estimated_salary</th>\n",
       "      <th>exited</th>\n",
       "    </tr>\n",
       "  </thead>\n",
       "  <tbody>\n",
       "    <tr>\n",
       "      <th>credit_score</th>\n",
       "      <td>1.000000</td>\n",
       "      <td>-0.004504</td>\n",
       "      <td>-0.000062</td>\n",
       "      <td>0.002804</td>\n",
       "      <td>0.011090</td>\n",
       "      <td>-0.003937</td>\n",
       "      <td>0.030947</td>\n",
       "      <td>0.005182</td>\n",
       "      <td>-0.023950</td>\n",
       "    </tr>\n",
       "    <tr>\n",
       "      <th>age</th>\n",
       "      <td>-0.004504</td>\n",
       "      <td>1.000000</td>\n",
       "      <td>-0.013134</td>\n",
       "      <td>0.031481</td>\n",
       "      <td>-0.031877</td>\n",
       "      <td>-0.014129</td>\n",
       "      <td>0.082269</td>\n",
       "      <td>-0.007037</td>\n",
       "      <td>0.283017</td>\n",
       "    </tr>\n",
       "    <tr>\n",
       "      <th>tenure</th>\n",
       "      <td>-0.000062</td>\n",
       "      <td>-0.013134</td>\n",
       "      <td>1.000000</td>\n",
       "      <td>-0.007911</td>\n",
       "      <td>0.011979</td>\n",
       "      <td>0.027232</td>\n",
       "      <td>-0.032178</td>\n",
       "      <td>0.010520</td>\n",
       "      <td>-0.016761</td>\n",
       "    </tr>\n",
       "    <tr>\n",
       "      <th>balance</th>\n",
       "      <td>0.002804</td>\n",
       "      <td>0.031481</td>\n",
       "      <td>-0.007911</td>\n",
       "      <td>1.000000</td>\n",
       "      <td>-0.301858</td>\n",
       "      <td>-0.019055</td>\n",
       "      <td>-0.003285</td>\n",
       "      <td>0.014351</td>\n",
       "      <td>0.117218</td>\n",
       "    </tr>\n",
       "    <tr>\n",
       "      <th>num_of_products</th>\n",
       "      <td>0.011090</td>\n",
       "      <td>-0.031877</td>\n",
       "      <td>0.011979</td>\n",
       "      <td>-0.301858</td>\n",
       "      <td>1.000000</td>\n",
       "      <td>0.005805</td>\n",
       "      <td>0.009084</td>\n",
       "      <td>0.013990</td>\n",
       "      <td>-0.050271</td>\n",
       "    </tr>\n",
       "    <tr>\n",
       "      <th>has_cr_card</th>\n",
       "      <td>-0.003937</td>\n",
       "      <td>-0.014129</td>\n",
       "      <td>0.027232</td>\n",
       "      <td>-0.019055</td>\n",
       "      <td>0.005805</td>\n",
       "      <td>1.000000</td>\n",
       "      <td>-0.008810</td>\n",
       "      <td>-0.006136</td>\n",
       "      <td>-0.005411</td>\n",
       "    </tr>\n",
       "    <tr>\n",
       "      <th>is_active_member</th>\n",
       "      <td>0.030947</td>\n",
       "      <td>0.082269</td>\n",
       "      <td>-0.032178</td>\n",
       "      <td>-0.003285</td>\n",
       "      <td>0.009084</td>\n",
       "      <td>-0.008810</td>\n",
       "      <td>1.000000</td>\n",
       "      <td>-0.020049</td>\n",
       "      <td>-0.155062</td>\n",
       "    </tr>\n",
       "    <tr>\n",
       "      <th>estimated_salary</th>\n",
       "      <td>0.005182</td>\n",
       "      <td>-0.007037</td>\n",
       "      <td>0.010520</td>\n",
       "      <td>0.014351</td>\n",
       "      <td>0.013990</td>\n",
       "      <td>-0.006136</td>\n",
       "      <td>-0.020049</td>\n",
       "      <td>1.000000</td>\n",
       "      <td>0.016029</td>\n",
       "    </tr>\n",
       "    <tr>\n",
       "      <th>exited</th>\n",
       "      <td>-0.023950</td>\n",
       "      <td>0.283017</td>\n",
       "      <td>-0.016761</td>\n",
       "      <td>0.117218</td>\n",
       "      <td>-0.050271</td>\n",
       "      <td>-0.005411</td>\n",
       "      <td>-0.155062</td>\n",
       "      <td>0.016029</td>\n",
       "      <td>1.000000</td>\n",
       "    </tr>\n",
       "  </tbody>\n",
       "</table>\n",
       "</div>"
      ],
      "text/plain": [
       "                  credit_score       age    tenure   balance  num_of_products  \\\n",
       "credit_score          1.000000 -0.004504 -0.000062  0.002804         0.011090   \n",
       "age                  -0.004504  1.000000 -0.013134  0.031481        -0.031877   \n",
       "tenure               -0.000062 -0.013134  1.000000 -0.007911         0.011979   \n",
       "balance               0.002804  0.031481 -0.007911  1.000000        -0.301858   \n",
       "num_of_products       0.011090 -0.031877  0.011979 -0.301858         1.000000   \n",
       "has_cr_card          -0.003937 -0.014129  0.027232 -0.019055         0.005805   \n",
       "is_active_member      0.030947  0.082269 -0.032178 -0.003285         0.009084   \n",
       "estimated_salary      0.005182 -0.007037  0.010520  0.014351         0.013990   \n",
       "exited               -0.023950  0.283017 -0.016761  0.117218        -0.050271   \n",
       "\n",
       "                  has_cr_card  is_active_member  estimated_salary    exited  \n",
       "credit_score        -0.003937          0.030947          0.005182 -0.023950  \n",
       "age                 -0.014129          0.082269         -0.007037  0.283017  \n",
       "tenure               0.027232         -0.032178          0.010520 -0.016761  \n",
       "balance             -0.019055         -0.003285          0.014351  0.117218  \n",
       "num_of_products      0.005805          0.009084          0.013990 -0.050271  \n",
       "has_cr_card          1.000000         -0.008810         -0.006136 -0.005411  \n",
       "is_active_member    -0.008810          1.000000         -0.020049 -0.155062  \n",
       "estimated_salary    -0.006136         -0.020049          1.000000  0.016029  \n",
       "exited              -0.005411         -0.155062          0.016029  1.000000  "
      ]
     },
     "execution_count": 57,
     "metadata": {},
     "output_type": "execute_result"
    }
   ],
   "source": [
    "data.corr()"
   ]
  },
  {
   "cell_type": "markdown",
   "metadata": {},
   "source": [
    "### Выполнить прямое кодирование"
   ]
  },
  {
   "cell_type": "code",
   "execution_count": 58,
   "metadata": {},
   "outputs": [],
   "source": [
    "data_ohe = pd.get_dummies(data=data, columns=['gender', 'geography'], prefix='', prefix_sep='', drop_first=True)"
   ]
  },
  {
   "cell_type": "code",
   "execution_count": 59,
   "metadata": {
    "scrolled": false
   },
   "outputs": [
    {
     "data": {
      "text/html": [
       "<div>\n",
       "<style scoped>\n",
       "    .dataframe tbody tr th:only-of-type {\n",
       "        vertical-align: middle;\n",
       "    }\n",
       "\n",
       "    .dataframe tbody tr th {\n",
       "        vertical-align: top;\n",
       "    }\n",
       "\n",
       "    .dataframe thead th {\n",
       "        text-align: right;\n",
       "    }\n",
       "</style>\n",
       "<table border=\"1\" class=\"dataframe\">\n",
       "  <thead>\n",
       "    <tr style=\"text-align: right;\">\n",
       "      <th></th>\n",
       "      <th>credit_score</th>\n",
       "      <th>age</th>\n",
       "      <th>tenure</th>\n",
       "      <th>balance</th>\n",
       "      <th>num_of_products</th>\n",
       "      <th>has_cr_card</th>\n",
       "      <th>is_active_member</th>\n",
       "      <th>estimated_salary</th>\n",
       "      <th>exited</th>\n",
       "      <th>Male</th>\n",
       "      <th>Germany</th>\n",
       "      <th>Spain</th>\n",
       "    </tr>\n",
       "  </thead>\n",
       "  <tbody>\n",
       "    <tr>\n",
       "      <th>0</th>\n",
       "      <td>619</td>\n",
       "      <td>42</td>\n",
       "      <td>2.0</td>\n",
       "      <td>0.00</td>\n",
       "      <td>1</td>\n",
       "      <td>1</td>\n",
       "      <td>1</td>\n",
       "      <td>101348.88</td>\n",
       "      <td>1</td>\n",
       "      <td>0</td>\n",
       "      <td>0</td>\n",
       "      <td>0</td>\n",
       "    </tr>\n",
       "    <tr>\n",
       "      <th>1</th>\n",
       "      <td>608</td>\n",
       "      <td>41</td>\n",
       "      <td>1.0</td>\n",
       "      <td>83807.86</td>\n",
       "      <td>1</td>\n",
       "      <td>0</td>\n",
       "      <td>1</td>\n",
       "      <td>112542.58</td>\n",
       "      <td>0</td>\n",
       "      <td>0</td>\n",
       "      <td>0</td>\n",
       "      <td>1</td>\n",
       "    </tr>\n",
       "    <tr>\n",
       "      <th>2</th>\n",
       "      <td>502</td>\n",
       "      <td>42</td>\n",
       "      <td>8.0</td>\n",
       "      <td>159660.80</td>\n",
       "      <td>3</td>\n",
       "      <td>1</td>\n",
       "      <td>0</td>\n",
       "      <td>113931.57</td>\n",
       "      <td>1</td>\n",
       "      <td>0</td>\n",
       "      <td>0</td>\n",
       "      <td>0</td>\n",
       "    </tr>\n",
       "    <tr>\n",
       "      <th>3</th>\n",
       "      <td>699</td>\n",
       "      <td>39</td>\n",
       "      <td>1.0</td>\n",
       "      <td>0.00</td>\n",
       "      <td>2</td>\n",
       "      <td>0</td>\n",
       "      <td>0</td>\n",
       "      <td>93826.63</td>\n",
       "      <td>0</td>\n",
       "      <td>0</td>\n",
       "      <td>0</td>\n",
       "      <td>0</td>\n",
       "    </tr>\n",
       "    <tr>\n",
       "      <th>4</th>\n",
       "      <td>850</td>\n",
       "      <td>43</td>\n",
       "      <td>2.0</td>\n",
       "      <td>125510.82</td>\n",
       "      <td>1</td>\n",
       "      <td>1</td>\n",
       "      <td>1</td>\n",
       "      <td>79084.10</td>\n",
       "      <td>0</td>\n",
       "      <td>0</td>\n",
       "      <td>0</td>\n",
       "      <td>1</td>\n",
       "    </tr>\n",
       "  </tbody>\n",
       "</table>\n",
       "</div>"
      ],
      "text/plain": [
       "   credit_score  age  tenure    balance  num_of_products  has_cr_card  \\\n",
       "0           619   42     2.0       0.00                1            1   \n",
       "1           608   41     1.0   83807.86                1            0   \n",
       "2           502   42     8.0  159660.80                3            1   \n",
       "3           699   39     1.0       0.00                2            0   \n",
       "4           850   43     2.0  125510.82                1            1   \n",
       "\n",
       "   is_active_member  estimated_salary  exited  Male  Germany  Spain  \n",
       "0                 1         101348.88       1     0        0      0  \n",
       "1                 1         112542.58       0     0        0      1  \n",
       "2                 0         113931.57       1     0        0      0  \n",
       "3                 0          93826.63       0     0        0      0  \n",
       "4                 1          79084.10       0     0        0      1  "
      ]
     },
     "execution_count": 59,
     "metadata": {},
     "output_type": "execute_result"
    }
   ],
   "source": [
    "data_ohe.head(5)"
   ]
  },
  {
   "cell_type": "code",
   "execution_count": 60,
   "metadata": {},
   "outputs": [
    {
     "name": "stdout",
     "output_type": "stream",
     "text": [
      "<class 'pandas.core.frame.DataFrame'>\n",
      "Int64Index: 9091 entries, 0 to 9998\n",
      "Data columns (total 12 columns):\n",
      " #   Column            Non-Null Count  Dtype  \n",
      "---  ------            --------------  -----  \n",
      " 0   credit_score      9091 non-null   int64  \n",
      " 1   age               9091 non-null   int64  \n",
      " 2   tenure            9091 non-null   float64\n",
      " 3   balance           9091 non-null   float64\n",
      " 4   num_of_products   9091 non-null   int64  \n",
      " 5   has_cr_card       9091 non-null   int64  \n",
      " 6   is_active_member  9091 non-null   int64  \n",
      " 7   estimated_salary  9091 non-null   float64\n",
      " 8   exited            9091 non-null   int64  \n",
      " 9   Male              9091 non-null   uint8  \n",
      " 10  Germany           9091 non-null   uint8  \n",
      " 11  Spain             9091 non-null   uint8  \n",
      "dtypes: float64(3), int64(6), uint8(3)\n",
      "memory usage: 736.9 KB\n"
     ]
    }
   ],
   "source": [
    "data_ohe.info()"
   ]
  },
  {
   "cell_type": "markdown",
   "metadata": {},
   "source": [
    "### Выводы подготовки данных\n",
    "\n",
    "1. Мы создали датафрейм data, содержащий в себе все данные исходного файла\n",
    "2. Данные содержат 10000 объектов - пользователей банка. \n",
    "3. Датафрейм содержит пропуски в колонке \"Tenure\" в количестве: 909\n",
    "4. Мы не нашли, чем можно заполнить пропуски и удалили 909 строк из исходного датафрейма\n",
    "5. Мы привели название колонок датафрейма к общему стандарту (все названия с маленькой буквы, слова разделены нижним подчеркиванием)\n",
    "6. Мы проверили датафрейм на дубли и не обнаружили их. \n",
    "7. Мы удалили колонку row_number так как она не содержит в себе информации о пользователе. \n",
    "8. Мы удалили колонку customer_id так как она не содержит в себе информации о пользователе. \n",
    "9. Мы удалили колонку surname так как она не содержит в себе информации о пользователе. \n",
    "10. Мы вывели корреляцию признаков. Сильной корреляции между признаками не обнаружено. \n",
    "11. Мы закодировали категориальные данные (Страна проживания, гендер) методом One-Hot Encoding или Прямое кодирование. "
   ]
  },
  {
   "cell_type": "markdown",
   "metadata": {},
   "source": [
    "## Исследование задачи"
   ]
  },
  {
   "cell_type": "markdown",
   "metadata": {},
   "source": [
    "### Исследовать баланс классов"
   ]
  },
  {
   "cell_type": "code",
   "execution_count": 61,
   "metadata": {},
   "outputs": [],
   "source": [
    "calss_balance = data_ohe['exited'].value_counts()\n",
    "calss_balance = pd.DataFrame(calss_balance)"
   ]
  },
  {
   "cell_type": "code",
   "execution_count": 62,
   "metadata": {},
   "outputs": [
    {
     "data": {
      "image/png": "[encoded data removed]",
      "text/plain": [
       "<Figure size 432x288 with 1 Axes>"
      ]
     },
     "metadata": {
      "needs_background": "light"
     },
     "output_type": "display_data"
    }
   ],
   "source": [
    "# полученную таблицу отобразим на графике\n",
    "\n",
    "ax = sns.barplot(\n",
    "    x=calss_balance.index, \n",
    "    y=\"exited\", \n",
    "    data=calss_balance, \n",
    "    estimator=sum, \n",
    "    ci=None, \n",
    "    color='#69b3a2');\n",
    "plt.title('Баланс классов')\n",
    "plt.xlabel('Класс (1 - ушёл, 0 - остался)')\n",
    "plt.ylabel('Количество пользователей')\n",
    "ax.set_xticklabels(ax.get_xticklabels(), rotation=45)\n",
    "plt.show()"
   ]
  },
  {
   "cell_type": "markdown",
   "metadata": {},
   "source": [
    "### Сформировать тренировочную, валидационную и тестовую выборки"
   ]
  },
  {
   "cell_type": "code",
   "execution_count": 63,
   "metadata": {},
   "outputs": [],
   "source": [
    "# раздем данные на тренировочную и валидирующую выборки\n",
    "X_train, X_valid, y_train, y_valid = train_test_split(\n",
    "data_ohe.drop(['exited'], axis=1), data_ohe['exited'], test_size=0.4,\n",
    "random_state=12345, stratify=data_ohe['exited'])"
   ]
  },
  {
   "cell_type": "code",
   "execution_count": 64,
   "metadata": {},
   "outputs": [],
   "source": [
    "# разделим валидирующую выборку на валидрирующую и тестовую\n",
    "X_valid, X_test, y_valid, y_test = train_test_split(\n",
    "X_valid, y_valid, test_size=0.5,\n",
    "random_state=12345, stratify=y_valid)"
   ]
  },
  {
   "cell_type": "code",
   "execution_count": 65,
   "metadata": {
    "scrolled": false
   },
   "outputs": [
    {
     "data": {
      "text/plain": [
       "((5454, 11), (1818, 11), (1819, 11))"
      ]
     },
     "execution_count": 65,
     "metadata": {},
     "output_type": "execute_result"
    }
   ],
   "source": [
    "X_train.shape, X_valid.shape, X_test.shape"
   ]
  },
  {
   "cell_type": "markdown",
   "metadata": {},
   "source": [
    "### Изучить модели без учета дисбаланса и без масштабирования"
   ]
  },
  {
   "cell_type": "markdown",
   "metadata": {},
   "source": [
    "#### LogisticRegression"
   ]
  },
  {
   "cell_type": "code",
   "execution_count": 66,
   "metadata": {},
   "outputs": [
    {
     "name": "stdout",
     "output_type": "stream",
     "text": [
      "Лучшее значение f1 метрики: 0.32399999999999995, при С 1, penalty l1\n"
     ]
    }
   ],
   "source": [
    "best_lg_model = None\n",
    "best_p = None\n",
    "best_c = None\n",
    "best_f1 = 0\n",
    "\n",
    "\n",
    "for p in ['l1','l2']:\n",
    "    for c in [0.001, 1, 100]:\n",
    "        lg_model = LogisticRegression(C=c, penalty=p, solver='liblinear')\n",
    "        lg_model.fit(X_train, y_train)\n",
    "        pred = lg_model.predict(X_valid)\n",
    "        f1_temp = f1_score(y_valid, pred)\n",
    "        if f1_temp > best_f1:\n",
    "            best_lg_model = lg_model\n",
    "            best_f1 = f1_temp\n",
    "            best_p = p\n",
    "            best_c = c\n",
    "print(f'Лучшее значение f1 метрики: {best_f1}, при С {best_c}, penalty {best_p}')"
   ]
  },
  {
   "cell_type": "code",
   "execution_count": 67,
   "metadata": {},
   "outputs": [
    {
     "data": {
      "text/plain": [
       "0.7891967207923448"
      ]
     },
     "execution_count": 67,
     "metadata": {},
     "output_type": "execute_result"
    }
   ],
   "source": [
    "probabilities_valid = best_lg_model.predict_proba(X_valid)\n",
    "probabilities_one_valid = probabilities_valid[:, 1]\n",
    "\n",
    "auc_roc = roc_auc_score(y_valid, probabilities_one_valid)\n",
    "auc_roc"
   ]
  },
  {
   "cell_type": "markdown",
   "metadata": {},
   "source": [
    "#### DecisionTreeClassifier"
   ]
  },
  {
   "cell_type": "code",
   "execution_count": 68,
   "metadata": {
    "scrolled": false
   },
   "outputs": [
    {
     "name": "stdout",
     "output_type": "stream",
     "text": [
      "Лучшее значение f1 метрики: 0.5752508361204013, при best_max_depth: 7\n"
     ]
    }
   ],
   "source": [
    "best_dtc_model = None\n",
    "best_criterion = None\n",
    "best_splitter = None\n",
    "best_max_depth_dtc_model = 0\n",
    "best_f1 = 0\n",
    "\n",
    "\n",
    "for m in range(1,25,1):\n",
    "    dtc_model = DecisionTreeClassifier(criterion='gini', splitter='random', max_depth=m, random_state=42)\n",
    "    dtc_model.fit(X_train, y_train)\n",
    "    pred = dtc_model.predict(X_valid)\n",
    "    f1_temp = f1_score(y_valid, pred)\n",
    "    if f1_temp > best_f1:\n",
    "        best_f1 = f1_temp\n",
    "        best_dtc_model = dtc_model\n",
    "        best_max_depth_dtc_model = m\n",
    "                \n",
    "print(f'Лучшее значение f1 метрики: {best_f1},'\n",
    "      f' при best_max_depth: {best_max_depth_dtc_model}')"
   ]
  },
  {
   "cell_type": "code",
   "execution_count": 69,
   "metadata": {},
   "outputs": [
    {
     "data": {
      "text/plain": [
       "0.8605172519777885"
      ]
     },
     "execution_count": 69,
     "metadata": {},
     "output_type": "execute_result"
    }
   ],
   "source": [
    "probabilities_valid = best_dtc_model.predict_proba(X_valid)\n",
    "probabilities_one_valid = probabilities_valid[:, 1]\n",
    "\n",
    "auc_roc = roc_auc_score(y_valid, probabilities_one_valid)\n",
    "auc_roc"
   ]
  },
  {
   "cell_type": "markdown",
   "metadata": {},
   "source": [
    "#### RandomForestClassifier"
   ]
  },
  {
   "cell_type": "code",
   "execution_count": 70,
   "metadata": {
    "scrolled": true
   },
   "outputs": [
    {
     "name": "stdout",
     "output_type": "stream",
     "text": [
      "Лучшее значение f1 метрики: 0.5860306643952299, при best_n_estimators 11, best_max_depth 9\n"
     ]
    }
   ],
   "source": [
    "best_rf_model = None\n",
    "best_n_estimators = 0\n",
    "best_max_depth_rf_model = 0\n",
    "best_f1 = 0\n",
    "\n",
    "for e in range(1, 100, 10):\n",
    "    for m in range(1, 11, 1):\n",
    "        rf_model = RandomForestClassifier(n_estimators=e, max_depth=m, bootstrap=True, random_state=42)\n",
    "        rf_model.fit(X_train, y_train)\n",
    "        pred = rf_model.predict(X_valid)\n",
    "        f1_temp = f1_score(y_valid, pred)\n",
    "        if f1_temp > best_f1:\n",
    "            best_f1 = f1_temp\n",
    "            best_rf_model = rf_model\n",
    "            best_n_estimators = e\n",
    "            best_max_depth_rf_model = m\n",
    "            \n",
    "\n",
    "print(f'Лучшее значение f1 метрики: {best_f1},'\n",
    "      f' при best_n_estimators {best_n_estimators}, best_max_depth {best_max_depth_rf_model}')"
   ]
  },
  {
   "cell_type": "code",
   "execution_count": 71,
   "metadata": {},
   "outputs": [
    {
     "data": {
      "text/plain": [
       "0.8672306491542126"
      ]
     },
     "execution_count": 71,
     "metadata": {},
     "output_type": "execute_result"
    }
   ],
   "source": [
    "probabilities_valid = best_rf_model.predict_proba(X_valid)\n",
    "probabilities_one_valid = probabilities_valid[:, 1]\n",
    "\n",
    "auc_roc = roc_auc_score(y_valid, probabilities_one_valid)\n",
    "auc_roc"
   ]
  },
  {
   "cell_type": "markdown",
   "metadata": {},
   "source": [
    "### Изучить модели без учета дисбаланса и c масштабированием"
   ]
  },
  {
   "cell_type": "markdown",
   "metadata": {},
   "source": [
    "Для масштабирования признаком мы будем использовать Стандартизацию. При стандартизации данные приводятся к стандартному нормальному распределению со средним значением 0 и стандартным отклонением 1. Это делается путем вычитания среднего значения и деления на стандартное отклонение каждого признака."
   ]
  },
  {
   "cell_type": "markdown",
   "metadata": {},
   "source": [
    "#### Масштабировать признаки"
   ]
  },
  {
   "cell_type": "code",
   "execution_count": 99,
   "metadata": {},
   "outputs": [],
   "source": [
    "# Создание объекта для стандартизации данных\n",
    "scaler = StandardScaler()\n",
    "\n",
    "# Масштабирование обучающего набора данных\n",
    "X_train_scaled = scaler.fit_transform(X_train)\n",
    "\n",
    "# Масштабирование валидационного набора данных\n",
    "X_valid_scaled = scaler.transform(X_valid)\n",
    "\n",
    "# Масштабирование тестового набора данных\n",
    "X_test_scaled = scaler.transform(X_test)"
   ]
  },
  {
   "cell_type": "markdown",
   "metadata": {},
   "source": [
    "#### LogisticRegression"
   ]
  },
  {
   "cell_type": "code",
   "execution_count": 73,
   "metadata": {},
   "outputs": [
    {
     "name": "stdout",
     "output_type": "stream",
     "text": [
      "Лучшее значение f1 метрики: 0.3306772908366534, при С 1, penalty l1\n"
     ]
    }
   ],
   "source": [
    "best_lg_model = None\n",
    "best_p = None\n",
    "best_c = None\n",
    "best_f1 = 0\n",
    "\n",
    "\n",
    "for p in ['l1','l2']:\n",
    "    for c in [0.001, 1, 100]:\n",
    "        lg_model = LogisticRegression(C=c, penalty=p, solver='liblinear')\n",
    "        lg_model.fit(X_train_scaled, y_train)\n",
    "        pred = lg_model.predict(X_valid_scaled)\n",
    "        f1_temp = f1_score(y_valid, pred)\n",
    "        if f1_temp > best_f1:\n",
    "            best_lg_model = lg_model\n",
    "            best_f1 = f1_temp\n",
    "            best_p = p\n",
    "            best_c = c\n",
    "print(f'Лучшее значение f1 метрики: {best_f1}, при С {best_c}, penalty {best_p}')"
   ]
  },
  {
   "cell_type": "markdown",
   "metadata": {},
   "source": [
    "#### DecisionTreeClassifier"
   ]
  },
  {
   "cell_type": "code",
   "execution_count": 74,
   "metadata": {},
   "outputs": [
    {
     "name": "stdout",
     "output_type": "stream",
     "text": [
      "Лучшее значение f1 метрики: 0.5752508361204013, при best_max_depth: 7\n"
     ]
    }
   ],
   "source": [
    "best_dtc_model = None\n",
    "best_criterion = None\n",
    "best_splitter = None\n",
    "best_max_depth_dtc_model = 0\n",
    "best_f1 = 0\n",
    "\n",
    "\n",
    "for m in range(1,25,1):\n",
    "    dtc_model = DecisionTreeClassifier(criterion='gini', splitter='random', max_depth=m, random_state=42)\n",
    "    dtc_model.fit(X_train_scaled, y_train)\n",
    "    pred = dtc_model.predict(X_valid_scaled)\n",
    "    f1_temp = f1_score(y_valid, pred)\n",
    "    if f1_temp > best_f1:\n",
    "        best_f1 = f1_temp\n",
    "        best_dtc_model = dtc_model\n",
    "        best_max_depth_dtc_model = m\n",
    "                \n",
    "print(f'Лучшее значение f1 метрики: {best_f1},'\n",
    "      f' при best_max_depth: {best_max_depth_dtc_model}')"
   ]
  },
  {
   "cell_type": "markdown",
   "metadata": {},
   "source": [
    "#### RandomForestClassifier"
   ]
  },
  {
   "cell_type": "code",
   "execution_count": 75,
   "metadata": {},
   "outputs": [
    {
     "name": "stdout",
     "output_type": "stream",
     "text": [
      "Лучшее значение f1 метрики: 0.5870307167235495, при best_n_estimators 11, best_max_depth 9\n"
     ]
    }
   ],
   "source": [
    "best_rf_model = None\n",
    "best_n_estimators = 0\n",
    "best_max_depth_rf_model = 0\n",
    "best_f1 = 0\n",
    "\n",
    "for e in range(1, 100, 10):\n",
    "    for m in range(1, 10, 1):\n",
    "        rf_model = RandomForestClassifier(n_estimators=e, max_depth=m, bootstrap=True, random_state=42)\n",
    "        rf_model.fit(X_train_scaled, y_train)\n",
    "        pred = rf_model.predict(X_valid_scaled)\n",
    "        f1_temp = f1_score(y_valid, pred)\n",
    "        if f1_temp > best_f1:\n",
    "            best_f1 = f1_temp\n",
    "            best_rf_model = rf_model\n",
    "            best_n_estimators = e\n",
    "            best_max_depth_rf_model = m\n",
    "            \n",
    "\n",
    "print(f'Лучшее значение f1 метрики: {best_f1},'\n",
    "      f' при best_n_estimators {best_n_estimators}, best_max_depth {best_max_depth_rf_model}')"
   ]
  },
  {
   "cell_type": "markdown",
   "metadata": {},
   "source": [
    "### Выводы по исследованию задачи\n",
    "\n",
    "1. Мы выяснили, что данные по классам (ушедшие и оставшиеся пользователи) находтся в существенном дисбалансе. 12 процентов данных об ушедших пользователях и 88% об оставшихся. \n",
    "2. Мы сформировали тренировочную, валидационную и тестовые выборки в соотношении 3:1:1\n",
    "3. Мы изучили три модели обучения: LogisticRegression, DecisionTreeClassifier, RandomForestClassifier. \n",
    "4. Лучшие результаты показала последняя подель с значением f1 метрики: 0.5860306643952299, при best_n_estimators 11, best_max_depth 9\n",
    "5. Мы выполнили стандартизацию данных с целью улучшить качество прогнозов моделей. Стандартизация не принисла положительных или отрийательных результатов. Начения метрик остались неизменными. \n",
    "6. Нам не удалось достигнуть необходимых значений f1 метрики, 0.59. Нам стоит обратить внимание на дисбаланс классов и исправить его. \n",
    "\n",
    "Также, мы получили показатели метрики AUC-ROC и сравнили её с метрикой F1. \n",
    "\n",
    "1. Модель LogisticRegression дала результат метрики AUC-ROC 0.79, что на 30% больше случайной модели (показатель 0.5), что подтверждает метрику F1 = 33\n",
    "2. Модель DecisionTreeClassifier дала результат метрики AUC-ROC 0.86, что на 36% больше случайной модели (показатель 0.5), что подтверждает метрику F1 = 57\n",
    "3. Модель RandomForestClassifier дала результат метрики AUC-ROC 0.87, что на 37% больше случайной модели (показатель 0.5), что подтверждает метрику F1 = 58"
   ]
  },
  {
   "cell_type": "markdown",
   "metadata": {},
   "source": [
    "## Борьба с дисбалансом"
   ]
  },
  {
   "cell_type": "markdown",
   "metadata": {},
   "source": [
    "### Взвешивание классов"
   ]
  },
  {
   "cell_type": "markdown",
   "metadata": {},
   "source": [
    "Придадим объектам редкого класса больший вес."
   ]
  },
  {
   "cell_type": "markdown",
   "metadata": {},
   "source": [
    "#### LogisticRegression"
   ]
  },
  {
   "cell_type": "code",
   "execution_count": 76,
   "metadata": {
    "scrolled": true
   },
   "outputs": [
    {
     "name": "stdout",
     "output_type": "stream",
     "text": [
      "Лучшее значение f1 метрики: 0.5079365079365079, при С 100, penalty l1\n"
     ]
    }
   ],
   "source": [
    "best_lg_model = None\n",
    "best_p = None\n",
    "best_c = None\n",
    "best_f1 = 0\n",
    "\n",
    "\n",
    "for p in ['l1','l2']:\n",
    "    for c in [0.001, 1, 100]:\n",
    "        lg_model = LogisticRegression(C=c, penalty=p, solver='liblinear', class_weight='balanced')\n",
    "        lg_model.fit(X_train_scaled, y_train)\n",
    "        pred = lg_model.predict(X_valid_scaled)\n",
    "        f1_temp = f1_score(y_valid, pred)\n",
    "        if f1_temp > best_f1:\n",
    "            best_lg_model = lg_model\n",
    "            best_f1 = f1_temp\n",
    "            best_p = p\n",
    "            best_c = c\n",
    "print(f'Лучшее значение f1 метрики: {best_f1}, при С {best_c}, penalty {best_p}')"
   ]
  },
  {
   "cell_type": "code",
   "execution_count": 77,
   "metadata": {},
   "outputs": [
    {
     "data": {
      "text/plain": [
       "0.7907390884011347"
      ]
     },
     "execution_count": 77,
     "metadata": {},
     "output_type": "execute_result"
    }
   ],
   "source": [
    "probabilities_valid = best_lg_model.predict_proba(X_valid_scaled)\n",
    "probabilities_one_valid = probabilities_valid[:, 1]\n",
    "\n",
    "auc_roc = roc_auc_score(y_valid, probabilities_one_valid)\n",
    "auc_roc"
   ]
  },
  {
   "cell_type": "markdown",
   "metadata": {},
   "source": [
    "#### DecisionTreeClassifier"
   ]
  },
  {
   "cell_type": "code",
   "execution_count": 80,
   "metadata": {},
   "outputs": [
    {
     "name": "stdout",
     "output_type": "stream",
     "text": [
      "Лучшее значение f1 метрики: 0.57847533632287, при best_max_depth: 6\n"
     ]
    }
   ],
   "source": [
    "best_dtc_model = None\n",
    "best_criterion = None\n",
    "best_splitter = None\n",
    "best_max_depth_dtc_model = 0\n",
    "best_f1 = 0\n",
    "\n",
    "\n",
    "for m in range(1,25,1):\n",
    "    dtc_model = DecisionTreeClassifier(criterion='gini', splitter='random', max_depth=m, random_state=42, \n",
    "                                      class_weight='balanced')\n",
    "    dtc_model.fit(X_train_scaled, y_train)\n",
    "    pred = dtc_model.predict(X_valid_scaled)\n",
    "    f1_temp = f1_score(y_valid, pred)\n",
    "    if f1_temp > best_f1:\n",
    "        best_f1 = f1_temp\n",
    "        best_dtc_model = dtc_model\n",
    "        best_max_depth_dtc_model = m\n",
    "                \n",
    "print(f'Лучшее значение f1 метрики: {best_f1},'\n",
    "      f' при best_max_depth: {best_max_depth_dtc_model}')"
   ]
  },
  {
   "cell_type": "code",
   "execution_count": 79,
   "metadata": {},
   "outputs": [
    {
     "data": {
      "text/plain": [
       "0.8476036487797972"
      ]
     },
     "execution_count": 79,
     "metadata": {},
     "output_type": "execute_result"
    }
   ],
   "source": [
    "probabilities_valid = best_dtc_model.predict_proba(X_valid_scaled)\n",
    "probabilities_one_valid = probabilities_valid[:, 1]\n",
    "\n",
    "auc_roc = roc_auc_score(y_valid, probabilities_one_valid)\n",
    "auc_roc"
   ]
  },
  {
   "cell_type": "markdown",
   "metadata": {},
   "source": [
    "#### RandomForestClassifier"
   ]
  },
  {
   "cell_type": "code",
   "execution_count": 81,
   "metadata": {
    "scrolled": true
   },
   "outputs": [
    {
     "name": "stdout",
     "output_type": "stream",
     "text": [
      "Лучшее значение f1 метрики: 0.659846547314578, при best_n_estimators 41, best_max_depth 9\n"
     ]
    }
   ],
   "source": [
    "best_rf_model = None\n",
    "best_n_estimators = 0\n",
    "best_max_depth_rf_model = 0\n",
    "best_f1 = 0\n",
    "\n",
    "for e in range(1, 100, 10):\n",
    "    for m in range(1, 10, 1):\n",
    "        rf_model = RandomForestClassifier(n_estimators=e, max_depth=m, bootstrap=True, random_state=42, \n",
    "                                         class_weight='balanced')\n",
    "        rf_model.fit(X_train_scaled, y_train)\n",
    "        pred = rf_model.predict(X_valid_scaled)\n",
    "        f1_temp = f1_score(y_valid, pred)\n",
    "        if f1_temp > best_f1:\n",
    "            best_f1 = f1_temp\n",
    "            best_rf_model = rf_model\n",
    "            best_n_estimators = e\n",
    "            best_max_depth_rf_model = m\n",
    "            \n",
    "\n",
    "print(f'Лучшее значение f1 метрики: {best_f1},'\n",
    "      f' при best_n_estimators {best_n_estimators}, best_max_depth {best_max_depth_rf_model}')"
   ]
  },
  {
   "cell_type": "code",
   "execution_count": 82,
   "metadata": {},
   "outputs": [
    {
     "data": {
      "text/plain": [
       "0.8702846487853856"
      ]
     },
     "execution_count": 82,
     "metadata": {},
     "output_type": "execute_result"
    }
   ],
   "source": [
    "probabilities_valid = best_rf_model.predict_proba(X_valid_scaled)\n",
    "probabilities_one_valid = probabilities_valid[:, 1]\n",
    "\n",
    "auc_roc = roc_auc_score(y_valid, probabilities_one_valid)\n",
    "auc_roc"
   ]
  },
  {
   "cell_type": "markdown",
   "metadata": {},
   "source": [
    "### Увеличение выборки"
   ]
  },
  {
   "cell_type": "markdown",
   "metadata": {},
   "source": [
    "Так как представителей класса 1 (клиент ушёл) в 4 раза меньше, чем представителей класса 0 (клиент остался), умножим количество объектов класса 1 на 4. "
   ]
  },
  {
   "cell_type": "code",
   "execution_count": 86,
   "metadata": {},
   "outputs": [
    {
     "data": {
      "text/plain": [
       "((5454, 11), (5454,), (1818, 11), (1818,))"
      ]
     },
     "execution_count": 86,
     "metadata": {},
     "output_type": "execute_result"
    }
   ],
   "source": [
    "X_train_scaled.shape, y_train.shape, X_valid_scaled.shape, y_valid.shape"
   ]
  },
  {
   "cell_type": "code",
   "execution_count": 88,
   "metadata": {},
   "outputs": [],
   "source": [
    "def upsample(X, y, repeat):\n",
    "    X_zeros = X[y == 0]\n",
    "    X_ones = X[y == 1]\n",
    "    y_zeros = y[y == 0]\n",
    "    y_ones = y[y == 1]\n",
    "    X_upsampled = pd.concat([X_zeros] + [X_ones] * repeat)\n",
    "    y_upsampled = pd.concat([y_zeros] + [y_ones] * repeat)\n",
    "    X_upsampled, y_upsampled = shuffle(X_upsampled, y_upsampled, random_state=12345)\n",
    "    return X_upsampled, y_upsampled\n",
    "    \n",
    "\n",
    "X_train__upsampled, y_train_upsampled = upsample(X_train, y_train, 4)"
   ]
  },
  {
   "cell_type": "code",
   "execution_count": 47,
   "metadata": {
    "scrolled": true
   },
   "outputs": [
    {
     "data": {
      "text/plain": [
       "((8790, 11), (8790,))"
      ]
     },
     "execution_count": 47,
     "metadata": {},
     "output_type": "execute_result"
    }
   ],
   "source": [
    "X_train__upsampled.shape, y_train_upsampled.shape"
   ]
  },
  {
   "cell_type": "code",
   "execution_count": 91,
   "metadata": {},
   "outputs": [],
   "source": [
    "# Создание объекта для стандартизации данных\n",
    "scaler = StandardScaler()\n",
    "\n",
    "# Масштабирование обучающего набора данных\n",
    "X_train_scaled_upsampled = scaler.fit_transform(X_train__upsampled)\n",
    "\n",
    "# Масштабирование валидационного набора данных\n",
    "X_valid_scaled = scaler.transform(X_valid)\n",
    "\n",
    "# Масштабирование тестового набора данных\n",
    "X_test_scaled = scaler.transform(X_test)"
   ]
  },
  {
   "cell_type": "code",
   "execution_count": 90,
   "metadata": {
    "scrolled": false
   },
   "outputs": [
    {
     "data": {
      "image/png": "[encoded data removed]",
      "text/plain": [
       "<Figure size 432x288 with 1 Axes>"
      ]
     },
     "metadata": {
      "needs_background": "light"
     },
     "output_type": "display_data"
    }
   ],
   "source": [
    "calss_balance = y_train_upsampled.value_counts()\n",
    "calss_balance = pd.DataFrame(calss_balance)\n",
    "# полученную таблицу отобразим на графике\n",
    "\n",
    "ax = sns.barplot(\n",
    "    x=calss_balance.index, \n",
    "    y=\"exited\", \n",
    "    data=calss_balance, \n",
    "    estimator=sum, \n",
    "    ci=None, \n",
    "    color='#69b3a2');\n",
    "plt.title('Баланс классов')\n",
    "plt.xlabel('Класс (1 - ушёл, 0 - остался)')\n",
    "plt.ylabel('Количество пользователей')\n",
    "ax.set_xticklabels(ax.get_xticklabels(), rotation=45)\n",
    "plt.show()"
   ]
  },
  {
   "cell_type": "markdown",
   "metadata": {},
   "source": [
    "Теперь классы сбалансированы"
   ]
  },
  {
   "cell_type": "markdown",
   "metadata": {},
   "source": [
    "#### LogisticRegression"
   ]
  },
  {
   "cell_type": "code",
   "execution_count": 92,
   "metadata": {
    "scrolled": true
   },
   "outputs": [
    {
     "name": "stdout",
     "output_type": "stream",
     "text": [
      "Лучшее значение f1 метрики: 0.5092402464065708, при С 0.001, penalty l1\n"
     ]
    }
   ],
   "source": [
    "best_lg_model = None\n",
    "best_p = None\n",
    "best_c = None\n",
    "best_f1 = 0\n",
    "\n",
    "\n",
    "for p in ['l1','l2']:\n",
    "    for c in [0.001, 1, 100]:\n",
    "        lg_model = LogisticRegression(C=c, penalty=p, solver='liblinear')\n",
    "        lg_model.fit(X_train_scaled_upsampled, y_train_upsampled)\n",
    "        pred = lg_model.predict(X_valid_scaled)\n",
    "        f1_temp = f1_score(y_valid, pred)\n",
    "        if f1_temp > best_f1:\n",
    "            best_lg_model = lg_model\n",
    "            best_f1 = f1_temp\n",
    "            best_p = p\n",
    "            best_c = c\n",
    "print(f'Лучшее значение f1 метрики: {best_f1}, при С {best_c}, penalty {best_p}')"
   ]
  },
  {
   "cell_type": "code",
   "execution_count": 93,
   "metadata": {},
   "outputs": [
    {
     "data": {
      "text/plain": [
       "0.74685146515609"
      ]
     },
     "execution_count": 93,
     "metadata": {},
     "output_type": "execute_result"
    }
   ],
   "source": [
    "probabilities_valid = best_lg_model.predict_proba(X_valid_scaled)\n",
    "probabilities_one_valid = probabilities_valid[:, 1]\n",
    "\n",
    "auc_roc = roc_auc_score(y_valid, probabilities_one_valid)\n",
    "auc_roc"
   ]
  },
  {
   "cell_type": "markdown",
   "metadata": {},
   "source": [
    "#### DecisionTreeClassifier"
   ]
  },
  {
   "cell_type": "code",
   "execution_count": 94,
   "metadata": {},
   "outputs": [
    {
     "name": "stdout",
     "output_type": "stream",
     "text": [
      "Лучшее значение f1 метрики: 0.6002400960384153, при best_max_depth: 9\n"
     ]
    }
   ],
   "source": [
    "best_dtc_model = None\n",
    "best_criterion = None\n",
    "best_splitter = None\n",
    "best_max_depth_dtc_model = 0\n",
    "best_f1 = 0\n",
    "\n",
    "\n",
    "for m in range(1,25,1):\n",
    "    dtc_model = DecisionTreeClassifier(criterion='gini', splitter='random', max_depth=m, random_state=42)\n",
    "    dtc_model.fit(X_train_scaled_upsampled, y_train_upsampled)\n",
    "    pred = dtc_model.predict(X_valid_scaled)\n",
    "    f1_temp = f1_score(y_valid, pred)\n",
    "    if f1_temp > best_f1:\n",
    "        best_f1 = f1_temp\n",
    "        best_dtc_model = dtc_model\n",
    "        best_max_depth_dtc_model = m\n",
    "                \n",
    "print(f'Лучшее значение f1 метрики: {best_f1},'\n",
    "      f' при best_max_depth: {best_max_depth_dtc_model}')"
   ]
  },
  {
   "cell_type": "code",
   "execution_count": 95,
   "metadata": {},
   "outputs": [
    {
     "data": {
      "text/plain": [
       "0.808164303131118"
      ]
     },
     "execution_count": 95,
     "metadata": {},
     "output_type": "execute_result"
    }
   ],
   "source": [
    "probabilities_valid = best_dtc_model.predict_proba(X_valid_scaled)\n",
    "probabilities_one_valid = probabilities_valid[:, 1]\n",
    "\n",
    "auc_roc = roc_auc_score(y_valid, probabilities_one_valid)\n",
    "auc_roc"
   ]
  },
  {
   "cell_type": "markdown",
   "metadata": {},
   "source": [
    "####  RandomForestClassifier\n"
   ]
  },
  {
   "cell_type": "code",
   "execution_count": 96,
   "metadata": {},
   "outputs": [
    {
     "name": "stdout",
     "output_type": "stream",
     "text": [
      "Лучшее значение f1 метрики: 0.6354044548651817, при best_n_estimators 91, best_max_depth 9\n"
     ]
    }
   ],
   "source": [
    "best_rf_model = None\n",
    "best_n_estimators = 0\n",
    "best_max_depth_rf_model = 0\n",
    "best_f1 = 0\n",
    "\n",
    "for e in range(1, 100, 10):\n",
    "    for m in range(1, 10, 1):\n",
    "        rf_model = RandomForestClassifier(n_estimators=e, max_depth=m, bootstrap=True, random_state=42)\n",
    "        rf_model.fit(X_train_scaled_upsampled, y_train_upsampled)\n",
    "        pred = rf_model.predict(X_valid_scaled)\n",
    "        f1_temp = f1_score(y_valid, pred)\n",
    "        if f1_temp > best_f1:\n",
    "            best_f1 = f1_temp\n",
    "            best_rf_model = rf_model\n",
    "            best_n_estimators = e\n",
    "            best_max_depth_rf_model = m\n",
    "            \n",
    "\n",
    "print(f'Лучшее значение f1 метрики: {best_f1},'\n",
    "      f' при best_n_estimators {best_n_estimators}, best_max_depth {best_max_depth_rf_model}')"
   ]
  },
  {
   "cell_type": "code",
   "execution_count": 97,
   "metadata": {},
   "outputs": [
    {
     "data": {
      "text/plain": [
       "0.8765565711752357"
      ]
     },
     "execution_count": 97,
     "metadata": {},
     "output_type": "execute_result"
    }
   ],
   "source": [
    "probabilities_valid = best_rf_model.predict_proba(X_valid_scaled)\n",
    "probabilities_one_valid = probabilities_valid[:, 1]\n",
    "\n",
    "auc_roc = roc_auc_score(y_valid, probabilities_one_valid)\n",
    "auc_roc"
   ]
  },
  {
   "cell_type": "markdown",
   "metadata": {},
   "source": [
    "### Изменение порога"
   ]
  },
  {
   "cell_type": "code",
   "execution_count": 100,
   "metadata": {},
   "outputs": [
    {
     "data": {
      "text/plain": [
       "((5454, 11), (5454,), (1818, 11), (1818,))"
      ]
     },
     "execution_count": 100,
     "metadata": {},
     "output_type": "execute_result"
    }
   ],
   "source": [
    "X_train_scaled.shape, y_train.shape, X_valid_scaled.shape, y_valid.shape"
   ]
  },
  {
   "cell_type": "code",
   "execution_count": 56,
   "metadata": {
    "scrolled": true
   },
   "outputs": [
    {
     "data": {
      "image/png": "[encoded data removed]",
      "text/plain": [
       "<Figure size 432x288 with 1 Axes>"
      ]
     },
     "metadata": {
      "needs_background": "light"
     },
     "output_type": "display_data"
    }
   ],
   "source": [
    "calss_balance = y_train.value_counts()\n",
    "calss_balance = pd.DataFrame(calss_balance)\n",
    "# полученную таблицу отобразим на графике\n",
    "\n",
    "ax = sns.barplot(\n",
    "    x=calss_balance.index, \n",
    "    y=\"exited\", \n",
    "    data=calss_balance, \n",
    "    estimator=sum, \n",
    "    ci=None, \n",
    "    color='#69b3a2');\n",
    "plt.title('Баланс классов')\n",
    "plt.xlabel('Класс (1 - ушёл, 0 - остался)')\n",
    "plt.ylabel('Количество пользователей')\n",
    "ax.set_xticklabels(ax.get_xticklabels(), rotation=45)\n",
    "plt.show()"
   ]
  },
  {
   "cell_type": "markdown",
   "metadata": {},
   "source": [
    "#### LogisticRegression"
   ]
  },
  {
   "cell_type": "code",
   "execution_count": 101,
   "metadata": {},
   "outputs": [
    {
     "name": "stdout",
     "output_type": "stream",
     "text": [
      "Лучшее значение f1 метрики: 0.3306772908366534, при С 1, penalty l1\n"
     ]
    }
   ],
   "source": [
    "best_lg_model = None\n",
    "best_p = None\n",
    "best_c = None\n",
    "best_f1 = 0\n",
    "\n",
    "\n",
    "for p in ['l1','l2']:\n",
    "    for c in [0.001, 1, 100]:\n",
    "        lg_model = LogisticRegression(C=c, penalty=p, solver='liblinear')\n",
    "        lg_model.fit(X_train_scaled, y_train)\n",
    "        pred = lg_model.predict(X_valid_scaled)\n",
    "        f1_temp = f1_score(y_valid, pred)\n",
    "        if f1_temp > best_f1:\n",
    "            best_lg_model = lg_model\n",
    "            best_f1 = f1_temp\n",
    "            best_p = p\n",
    "            best_c = c\n",
    "print(f'Лучшее значение f1 метрики: {best_f1}, при С {best_c}, penalty {best_p}')"
   ]
  },
  {
   "cell_type": "code",
   "execution_count": 102,
   "metadata": {},
   "outputs": [
    {
     "name": "stdout",
     "output_type": "stream",
     "text": [
      "Порог = 0.28 | f1 = 0.5336538461538463\n"
     ]
    }
   ],
   "source": [
    "probabilities_valid = best_lg_model.predict_proba(X_valid_scaled)\n",
    "probabilities_one_valid = probabilities_valid[:, 1]\n",
    "best_threshold = 0\n",
    "best_f1 = 0\n",
    "\n",
    "for threshold in np.arange(0, 0.3, 0.02):\n",
    "    predicted_valid = probabilities_one_valid > threshold\n",
    "    f1 = f1_score(y_valid, predicted_valid)\n",
    "    if f1 > best_f1:\n",
    "        best_threshold = threshold\n",
    "        best_f1 = f1\n",
    "\n",
    "print(f\"Порог = {best_threshold} | f1 = {best_f1}\")"
   ]
  },
  {
   "cell_type": "markdown",
   "metadata": {},
   "source": [
    "#### DecisionTreeClassifier"
   ]
  },
  {
   "cell_type": "code",
   "execution_count": 103,
   "metadata": {},
   "outputs": [
    {
     "name": "stdout",
     "output_type": "stream",
     "text": [
      "Лучшее значение f1 метрики: 0.4362336114421931, при best_max_depth: 21\n"
     ]
    }
   ],
   "source": [
    "best_dtc_model = None\n",
    "best_criterion = None\n",
    "best_splitter = None\n",
    "best_max_depth_dtc_model = 0\n",
    "best_f1 = 0\n",
    "\n",
    "\n",
    "for m in range(1,25,1):\n",
    "    dtc_model = DecisionTreeClassifier(criterion='gini', splitter='random', max_depth=m, random_state=42)\n",
    "    dtc_model.fit(X_train_scaled, y_train)\n",
    "    pred = dtc_model.predict(X_valid)\n",
    "    f1_temp = f1_score(y_valid, pred)\n",
    "    if f1_temp > best_f1:\n",
    "        best_f1 = f1_temp\n",
    "        best_dtc_model = dtc_model\n",
    "        best_max_depth_dtc_model = m\n",
    "                \n",
    "print(f'Лучшее значение f1 метрики: {best_f1},'\n",
    "      f' при best_max_depth: {best_max_depth_dtc_model}')"
   ]
  },
  {
   "cell_type": "code",
   "execution_count": 104,
   "metadata": {},
   "outputs": [
    {
     "name": "stdout",
     "output_type": "stream",
     "text": [
      "Порог = 0.26 | f1 = 0.5217391304347827\n"
     ]
    }
   ],
   "source": [
    "probabilities_valid = best_dtc_model.predict_proba(X_valid_scaled)\n",
    "probabilities_one_valid = probabilities_valid[:, 1]\n",
    "best_threshold = 0\n",
    "best_f1 = 0\n",
    "\n",
    "for threshold in np.arange(0, 0.3, 0.02):\n",
    "    predicted_valid = probabilities_one_valid > threshold\n",
    "    f1 = f1_score(y_valid, predicted_valid)\n",
    "    if f1 > best_f1:\n",
    "        best_threshold = threshold\n",
    "        best_f1 = f1\n",
    "\n",
    "print(f\"Порог = {best_threshold} | f1 = {best_f1}\")"
   ]
  },
  {
   "cell_type": "markdown",
   "metadata": {},
   "source": [
    "#### RandomForestClassifier"
   ]
  },
  {
   "cell_type": "code",
   "execution_count": 105,
   "metadata": {},
   "outputs": [
    {
     "name": "stdout",
     "output_type": "stream",
     "text": [
      "Лучшее значение f1 метрики: 0.5870307167235495, при best_n_estimators 11, best_max_depth 9\n"
     ]
    }
   ],
   "source": [
    "best_rf_model = None\n",
    "best_n_estimators = 0\n",
    "best_max_depth_rf_model = 0\n",
    "best_f1 = 0\n",
    "\n",
    "for e in range(1, 100, 10):\n",
    "    for m in range(1, 10, 1):\n",
    "        rf_model = RandomForestClassifier(n_estimators=e, max_depth=m, bootstrap=True, random_state=42)\n",
    "        rf_model.fit(X_train_scaled, y_train)\n",
    "        pred = rf_model.predict(X_valid_scaled)\n",
    "        f1_temp = f1_score(y_valid, pred)\n",
    "        if f1_temp > best_f1:\n",
    "            best_f1 = f1_temp\n",
    "            best_rf_model = rf_model\n",
    "            best_n_estimators = e\n",
    "            best_max_depth_rf_model = m\n",
    "            \n",
    "\n",
    "print(f'Лучшее значение f1 метрики: {best_f1},'\n",
    "      f' при best_n_estimators {best_n_estimators}, best_max_depth {best_max_depth_rf_model}')"
   ]
  },
  {
   "cell_type": "code",
   "execution_count": 106,
   "metadata": {},
   "outputs": [
    {
     "name": "stdout",
     "output_type": "stream",
     "text": [
      "Порог = 0.28 | f1 = 0.6463104325699747\n"
     ]
    }
   ],
   "source": [
    "probabilities_valid = best_rf_model.predict_proba(X_valid_scaled)\n",
    "probabilities_one_valid = probabilities_valid[:, 1]\n",
    "best_threshold = 0\n",
    "best_f1 = 0\n",
    "\n",
    "for threshold in np.arange(0, 0.3, 0.02):\n",
    "    predicted_valid = probabilities_one_valid > threshold\n",
    "    f1 = f1_score(y_valid, predicted_valid)\n",
    "    if f1 > best_f1:\n",
    "        best_threshold = threshold\n",
    "        best_f1 = f1\n",
    "\n",
    "print(f\"Порог = {best_threshold} | f1 = {best_f1}\")"
   ]
  },
  {
   "cell_type": "markdown",
   "metadata": {},
   "source": [
    "### Выводы борьбы с дисбалансом"
   ]
  },
  {
   "cell_type": "markdown",
   "metadata": {},
   "source": [
    "В исследовании работы с дисбалансом классов, мы применили несколько методик и получили следубщие результаты: \n",
    "\n",
    "1. Метод \"Взвешивание классов\" показал лучший результат метрики f1 на валидационной выборке в модели RandomForestClassifier. С показателями метрики 0.66 и best_n_estimators 41, best_max_depth 9\n",
    "2. Метод \"Увеличение выборки\" показал лучший результат метрики f1 на валидационной выборке в модели RandomForestClassifier. С показателями метрики 0.64 и best_n_estimators 91, best_max_depth 9\n",
    "3. Метод \"Изменение порога\" показал лучший результат метрики f1 на валидационной выборке в модели RandomForestClassifier. С показателями метрики f1 = 64. Порогом вероятности = 0.28. И гиперпараметрами модели best_n_estimators 11, best_max_depth 9\n",
    "\n",
    "Также, мы получили показатели метрики AUC-ROC и сравнили её с метрикой F1. \n",
    "\n",
    "Взвешивание классов\n",
    "\n",
    "1. Модель LogisticRegression дала результат метрики AUC-ROC 0.79, что на 30% больше случайной модели (показатель 0.5). Однако, не смотря на рост метрики F1 = 0.51, метрика AUC-ROC осталась прежней. \n",
    "2. Модель DecisionTreeClassifier дала результат метрики AUC-ROC 0.85. Метрика F1 осталась неизменной = 0.58\n",
    "3. Модель RandomForestClassifier дала результат метрики AUC-ROC 0.87, что на 37% больше случайной модели (показатель 0.5), Однако, не смотря на рост метрики F1 = 0.66, метрика AUC-ROC осталась прежней.\n",
    "\n",
    "Увеличение выборки\n",
    "\n",
    "1. Модель LogisticRegression дала результат метрики AUC-ROC 0.75, что на 25% больше случайной модели (показатель 0.5). Однако, не смотря на рост метрики F1 = 0.51, метрика AUC-ROC осталась прежней. \n",
    "2. Модель DecisionTreeClassifier дала больший результат метрики AUC-ROC 0.88, чем это было до решения дисбаланса классов или решения дисбаланса классов методом \"Взвешивание классов\". Метрика F1 тоже выросла = 0.60\n",
    "3. Модель RandomForestClassifier дала результат метрики AUC-ROC 0.88, что на 38% больше случайной модели (показатель 0.5), метрика чуть упала, F1 = 0.64\n",
    "\n",
    "\n",
    "\n",
    "Таким образом, считаем, что наилучших показателей мы добились, используя метод \"Взвешивание классов\" в модели RandomForestClassifier. С показателями метрики 0.66 и best_n_estimators 41, best_max_depth 9"
   ]
  },
  {
   "cell_type": "markdown",
   "metadata": {},
   "source": [
    "## Тестирование модели"
   ]
  },
  {
   "cell_type": "markdown",
   "metadata": {},
   "source": [
    "Для тестирования, мы будем использовать модель RandomForestClassifier С показателями метрики 0.66 и best_n_estimators 41, best_max_depth 9 и методом решения дисбаланса классов \"Взвешивание классов\". Тестирование мы будем проводить на ранее подготовленной тестовой выборке: X_test, y_test"
   ]
  },
  {
   "cell_type": "code",
   "execution_count": 107,
   "metadata": {
    "scrolled": true
   },
   "outputs": [
    {
     "name": "stdout",
     "output_type": "stream",
     "text": [
      "Лучшее значение f1 метрики: 0.659846547314578, при best_n_estimators 41, best_max_depth 9\n"
     ]
    }
   ],
   "source": [
    "best_rf_model = None\n",
    "best_n_estimators = 0\n",
    "best_max_depth_rf_model = 0\n",
    "best_f1 = 0\n",
    "\n",
    "for e in range(1, 100, 10):\n",
    "    for m in range(1, 10, 1):\n",
    "        rf_model = RandomForestClassifier(n_estimators=e, max_depth=m, bootstrap=True, random_state=42, \n",
    "                                         class_weight='balanced')\n",
    "        rf_model.fit(X_train_scaled, y_train)\n",
    "        pred = rf_model.predict(X_valid_scaled)\n",
    "        f1_temp = f1_score(y_valid, pred)\n",
    "        if f1_temp > best_f1:\n",
    "            best_f1 = f1_temp\n",
    "            best_rf_model = rf_model\n",
    "            best_n_estimators = e\n",
    "            best_max_depth_rf_model = m\n",
    "            \n",
    "\n",
    "print(f'Лучшее значение f1 метрики: {best_f1},'\n",
    "      f' при best_n_estimators {best_n_estimators}, best_max_depth {best_max_depth_rf_model}')"
   ]
  },
  {
   "cell_type": "code",
   "execution_count": 108,
   "metadata": {},
   "outputs": [
    {
     "data": {
      "text/plain": [
       "0.610583446404342"
      ]
     },
     "execution_count": 108,
     "metadata": {},
     "output_type": "execute_result"
    }
   ],
   "source": [
    "pred = rf_model.predict(X_test_scaled)\n",
    "f1_test = f1_score(y_test, pred)\n",
    "f1_test"
   ]
  },
  {
   "cell_type": "code",
   "execution_count": 109,
   "metadata": {},
   "outputs": [
    {
     "data": {
      "text/plain": [
       "0.8675864368514092"
      ]
     },
     "execution_count": 109,
     "metadata": {},
     "output_type": "execute_result"
    }
   ],
   "source": [
    "probabilities_test = best_rf_model.predict_proba(X_test_scaled)\n",
    "probabilities_one_test = probabilities_valid[:, 1]\n",
    "\n",
    "auc_roc = roc_auc_score(y_valid, probabilities_one_valid)\n",
    "auc_roc"
   ]
  },
  {
   "cell_type": "markdown",
   "metadata": {},
   "source": [
    "### Выводы по тестированию модели. \n",
    "\n",
    "1. Для тестирования, мы использовали модель RandomForestClassifier С показателями метрики 0.66 и best_n_estimators 41, best_max_depth 9 и методом решения дисбаланса классов \"Взвешивание классов\". \n",
    "2. Тестирование мы провели на ранее подготовленной тестовой выборке: X_test_scaled, y_test\n",
    "3. В ходе тестирования, мы получили показатели метрик: F1 = 0.61, auc_roc = 0.87. \n",
    "4. Данные показатели являются хорошими показателями прогностической способности модели. Что говорит о ее пригодности к использованию на реальных данных. "
   ]
  },
  {
   "cell_type": "markdown",
   "metadata": {},
   "source": [
    "## Общий вывод\n",
    "\n",
    "Мы выполнили подготовку данных: \n",
    "\n",
    "1. Мы создали датафрейм data, содержащий в себе все данные исходного файла\n",
    "2. Данные содержат 10000 объектов - пользователей банка. \n",
    "3. Датафрейм содержит пропуски в колонке \"Tenure\" в количестве: 909\n",
    "4. Мы не нашли, чем можно заполнить пропуски и удалили 909 строк из исходного датафрейма\n",
    "5. Мы привели название колонок датафрейма к общему стандарту (все названия с маленькой буквы, слова разделены нижним подчеркиванием)\n",
    "6. Мы проверили датафрейм на дубли и не обнаружили их. \n",
    "7. Мы удалили колонку row_number так как она не содержит в себе информации о пользователе. \n",
    "8. Мы удалили колонку customer_id так как она не содержит в себе информации о пользователе. \n",
    "9. Мы удалили колонку surname так как она не содержит в себе информации о пользователе. \n",
    "10. Мы вывели корреляцию признаков. Сильной корреляции между признаками не обнаружено. \n",
    "11. Мы закодировали категориальные данные (Страна проживания, гендер) методом One-Hot Encoding или Прямое кодирование. \n",
    "\n",
    "Мы выполнили исследование задачи\n",
    "\n",
    "\n",
    "1. Мы выяснили, что данные по классам (ушедшие и оставшиеся пользователи) находтся в существенном дисбалансе. 12 процентов данных об ушедших пользователях и 88% об оставшихся. \n",
    "2. Мы сформировали тренировочную, валидационную и тестовые выборки в соотношении 3:1:1\n",
    "3. Мы изучили три модели обучения: LogisticRegression, DecisionTreeClassifier, RandomForestClassifier. \n",
    "4. Лучшие результаты показала последняя подель с значением f1 метрики: 0.5860306643952299, при best_n_estimators 11, best_max_depth 9\n",
    "5. Мы выполнили стандартизацию данных с целью улучшить качество прогнозов моделей. Стандартизация не принисла положительных или отрийательных результатов. Начения метрик остались неизменными. \n",
    "6. Нам не удалось достигнуть необходимых значений f1 метрики, 0.59. Нам стоит обратить внимание на дисбаланс классов и исправить его. \n",
    "\n",
    "Также, мы получили показатели метрики AUC-ROC и сравнили её с метрикой F1. \n",
    "\n",
    "1. Модель LogisticRegression дала результат метрики AUC-ROC 0.79, что на 30% больше случайной модели (показатель 0.5), что подтверждает метрику F1 = 33\n",
    "2. Модель DecisionTreeClassifier дала результат метрики AUC-ROC 0.86, что на 36% больше случайной модели (показатель 0.5), что подтверждает метрику F1 = 57\n",
    "3. Модель RandomForestClassifier дала результат метрики AUC-ROC 0.87, что на 37% больше случайной модели (показатель 0.5), что подтверждает метрику F1 = 58\n",
    "\n",
    "Мы провели борьбу с дисбалансом\n",
    "\n",
    "В исследовании работы с дисбалансом классов, мы применили несколько методик и получили следубщие результаты: \n",
    "\n",
    "1. Метод \"Взвешивание классов\" показал лучший результат метрики f1 на валидационной выборке в модели RandomForestClassifier. С показателями метрики 0.66 и best_n_estimators 41, best_max_depth 9\n",
    "2. Метод \"Увеличение выборки\" показал лучший результат метрики f1 на валидационной выборке в модели RandomForestClassifier. С показателями метрики 0.64 и best_n_estimators 91, best_max_depth 9\n",
    "3. Метод \"Изменение порога\" показал лучший результат метрики f1 на валидационной выборке в модели RandomForestClassifier. С показателями метрики f1 = 64. Порогом вероятности = 0.28. И гиперпараметрами модели best_n_estimators 11, best_max_depth 9\n",
    "\n",
    "Также, мы получили показатели метрики AUC-ROC и сравнили её с метрикой F1. \n",
    "\n",
    "Взвешивание классов\n",
    "\n",
    "1. Модель LogisticRegression дала результат метрики AUC-ROC 0.79, что на 30% больше случайной модели (показатель 0.5). Однако, не смотря на рост метрики F1 = 0.51, метрика AUC-ROC осталась прежней. \n",
    "2. Модель DecisionTreeClassifier дала результат метрики AUC-ROC 0.85. Метрика F1 осталась неизменной = 0.58\n",
    "3. Модель RandomForestClassifier дала результат метрики AUC-ROC 0.87, что на 37% больше случайной модели (показатель 0.5), Однако, не смотря на рост метрики F1 = 0.66, метрика AUC-ROC осталась прежней.\n",
    "\n",
    "Увеличение выборки\n",
    "\n",
    "1. Модель LogisticRegression дала результат метрики AUC-ROC 0.75, что на 25% больше случайной модели (показатель 0.5). Однако, не смотря на рост метрики F1 = 0.51, метрика AUC-ROC осталась прежней. \n",
    "2. Модель DecisionTreeClassifier дала больший результат метрики AUC-ROC 0.88, чем это было до решения дисбаланса классов или решения дисбаланса классов методом \"Взвешивание классов\". Метрика F1 тоже выросла = 0.60\n",
    "3. Модель RandomForestClassifier дала результат метрики AUC-ROC 0.88, что на 38% больше случайной модели (показатель 0.5), метрика чуть упала, F1 = 0.64\n",
    "\n",
    "\n",
    "\n",
    "Таким образом, считаем, что наилучших показателей мы добились, используя метод \"Взвешивание классов\" в модели RandomForestClassifier. С показателями метрики 0.66 и best_n_estimators 41, best_max_depth 9\n",
    "\n",
    "Мы выполнили тестирование модели\n",
    "\n",
    "1. Для тестирования, мы использовали модель RandomForestClassifier С показателями метрики 0.66 и best_n_estimators 41, best_max_depth 9 и методом решения дисбаланса классов \"Взвешивание классов\". \n",
    "2. Тестирование мы провели на ранее подготовленной тестовой выборке: X_test_scaled, y_test\n",
    "3. В ходе тестирования, мы получили показатели метрик: F1 = 0.61, auc_roc = 0.87. \n",
    "4. Данные показатели являются хорошими показателями прогностической способности модели. Что говорит о ее пригодности к использованию на реальных данных. "
   ]
  }
 ],
 "metadata": {
  "ExecuteTimeLog": [
   {
    "duration": 1583,
    "start_time": "2023-08-14T11:37:24.613Z"
   },
   {
    "duration": 184,
    "start_time": "2023-08-14T11:43:23.760Z"
   },
   {
    "duration": 17,
    "start_time": "2023-08-14T11:44:07.488Z"
   },
   {
    "duration": 13,
    "start_time": "2023-08-14T11:45:22.794Z"
   },
   {
    "duration": 7,
    "start_time": "2023-08-14T11:49:40.522Z"
   },
   {
    "duration": 127,
    "start_time": "2023-08-14T11:52:29.370Z"
   },
   {
    "duration": 12,
    "start_time": "2023-08-14T11:52:51.093Z"
   },
   {
    "duration": 109,
    "start_time": "2023-08-14T11:55:44.622Z"
   },
   {
    "duration": 20,
    "start_time": "2023-08-14T11:55:53.122Z"
   },
   {
    "duration": 7,
    "start_time": "2023-08-14T11:57:45.364Z"
   },
   {
    "duration": 13,
    "start_time": "2023-08-14T11:57:58.777Z"
   },
   {
    "duration": 4,
    "start_time": "2023-08-14T11:58:02.563Z"
   },
   {
    "duration": 4,
    "start_time": "2023-08-14T11:58:48.405Z"
   },
   {
    "duration": 4,
    "start_time": "2023-08-14T11:58:55.183Z"
   },
   {
    "duration": 4,
    "start_time": "2023-08-14T11:59:01.374Z"
   },
   {
    "duration": 100,
    "start_time": "2023-08-14T11:59:01.381Z"
   },
   {
    "duration": 22,
    "start_time": "2023-08-14T11:59:01.483Z"
   },
   {
    "duration": 66,
    "start_time": "2023-08-14T11:59:01.507Z"
   },
   {
    "duration": 48,
    "start_time": "2023-08-14T11:59:01.575Z"
   },
   {
    "duration": 57,
    "start_time": "2023-08-14T11:59:01.626Z"
   },
   {
    "duration": 68,
    "start_time": "2023-08-14T11:59:01.685Z"
   },
   {
    "duration": 4,
    "start_time": "2023-08-14T11:59:05.121Z"
   },
   {
    "duration": 4,
    "start_time": "2023-08-14T11:59:26.516Z"
   },
   {
    "duration": 4,
    "start_time": "2023-08-14T12:02:08.194Z"
   },
   {
    "duration": 4,
    "start_time": "2023-08-14T12:04:06.100Z"
   },
   {
    "duration": 11,
    "start_time": "2023-08-14T12:04:22.233Z"
   },
   {
    "duration": 11,
    "start_time": "2023-08-14T12:06:43.736Z"
   },
   {
    "duration": 3,
    "start_time": "2023-08-14T12:15:24.702Z"
   },
   {
    "duration": 16,
    "start_time": "2023-08-14T12:16:49.518Z"
   },
   {
    "duration": 5,
    "start_time": "2023-08-14T12:17:13.822Z"
   },
   {
    "duration": 13,
    "start_time": "2023-08-14T12:17:27.360Z"
   },
   {
    "duration": 12,
    "start_time": "2023-08-14T12:17:44.192Z"
   },
   {
    "duration": 4,
    "start_time": "2023-08-14T12:17:57.340Z"
   },
   {
    "duration": 62,
    "start_time": "2023-08-14T12:17:57.345Z"
   },
   {
    "duration": 14,
    "start_time": "2023-08-14T12:17:57.409Z"
   },
   {
    "duration": 25,
    "start_time": "2023-08-14T12:17:57.424Z"
   },
   {
    "duration": 8,
    "start_time": "2023-08-14T12:17:57.452Z"
   },
   {
    "duration": 5,
    "start_time": "2023-08-14T12:17:57.462Z"
   },
   {
    "duration": 8,
    "start_time": "2023-08-14T12:17:57.468Z"
   },
   {
    "duration": 5,
    "start_time": "2023-08-14T12:17:57.477Z"
   },
   {
    "duration": 11,
    "start_time": "2023-08-14T12:17:57.483Z"
   },
   {
    "duration": 5,
    "start_time": "2023-08-14T12:17:57.496Z"
   },
   {
    "duration": 13,
    "start_time": "2023-08-14T12:17:57.503Z"
   },
   {
    "duration": 9,
    "start_time": "2023-08-14T12:17:57.517Z"
   },
   {
    "duration": 5,
    "start_time": "2023-08-14T12:18:01.266Z"
   },
   {
    "duration": 13,
    "start_time": "2023-08-14T12:18:03.007Z"
   },
   {
    "duration": 18,
    "start_time": "2023-08-14T12:19:11.488Z"
   },
   {
    "duration": 4,
    "start_time": "2023-08-14T12:21:52.995Z"
   },
   {
    "duration": 16,
    "start_time": "2023-08-14T12:21:55.870Z"
   },
   {
    "duration": 4,
    "start_time": "2023-08-14T12:26:25.173Z"
   },
   {
    "duration": 68,
    "start_time": "2023-08-14T12:26:25.179Z"
   },
   {
    "duration": 14,
    "start_time": "2023-08-14T12:26:25.250Z"
   },
   {
    "duration": 26,
    "start_time": "2023-08-14T12:26:25.266Z"
   },
   {
    "duration": 9,
    "start_time": "2023-08-14T12:26:25.295Z"
   },
   {
    "duration": 38,
    "start_time": "2023-08-14T12:26:25.306Z"
   },
   {
    "duration": 22,
    "start_time": "2023-08-14T12:26:25.346Z"
   },
   {
    "duration": 20,
    "start_time": "2023-08-14T12:26:25.371Z"
   },
   {
    "duration": 18,
    "start_time": "2023-08-14T12:26:25.393Z"
   },
   {
    "duration": 16,
    "start_time": "2023-08-14T12:26:25.412Z"
   },
   {
    "duration": 36,
    "start_time": "2023-08-14T12:26:25.430Z"
   },
   {
    "duration": 24,
    "start_time": "2023-08-14T12:26:25.468Z"
   },
   {
    "duration": 6,
    "start_time": "2023-08-14T12:27:05.042Z"
   },
   {
    "duration": 5,
    "start_time": "2023-08-14T12:27:09.370Z"
   },
   {
    "duration": 3,
    "start_time": "2023-08-14T12:27:17.210Z"
   },
   {
    "duration": 13,
    "start_time": "2023-08-14T12:27:18.370Z"
   },
   {
    "duration": 5,
    "start_time": "2023-08-14T12:27:30.667Z"
   },
   {
    "duration": 5,
    "start_time": "2023-08-14T12:27:31.875Z"
   },
   {
    "duration": 16,
    "start_time": "2023-08-14T12:27:41.593Z"
   },
   {
    "duration": 12,
    "start_time": "2023-08-14T12:44:56.772Z"
   },
   {
    "duration": 29,
    "start_time": "2023-08-14T12:49:19.736Z"
   },
   {
    "duration": 25,
    "start_time": "2023-08-14T12:49:27.703Z"
   },
   {
    "duration": 22,
    "start_time": "2023-08-14T12:49:35.621Z"
   },
   {
    "duration": 27,
    "start_time": "2023-08-14T12:49:42.435Z"
   },
   {
    "duration": 7,
    "start_time": "2023-08-14T12:50:40.143Z"
   },
   {
    "duration": 4,
    "start_time": "2023-08-14T12:52:38.674Z"
   },
   {
    "duration": 15,
    "start_time": "2023-08-14T12:52:47.981Z"
   },
   {
    "duration": 9,
    "start_time": "2023-08-14T12:53:02.829Z"
   },
   {
    "duration": 12,
    "start_time": "2023-08-14T12:53:06.269Z"
   },
   {
    "duration": 9,
    "start_time": "2023-08-14T12:55:47.177Z"
   },
   {
    "duration": 16,
    "start_time": "2023-08-14T12:55:52.872Z"
   },
   {
    "duration": 16,
    "start_time": "2023-08-14T12:56:15.577Z"
   },
   {
    "duration": 9,
    "start_time": "2023-08-14T12:57:26.338Z"
   },
   {
    "duration": 2046,
    "start_time": "2023-08-14T12:57:27.679Z"
   },
   {
    "duration": 27,
    "start_time": "2023-08-14T12:57:37.707Z"
   },
   {
    "duration": 16,
    "start_time": "2023-08-14T12:58:14.682Z"
   },
   {
    "duration": 15,
    "start_time": "2023-08-14T12:58:21.139Z"
   },
   {
    "duration": 8,
    "start_time": "2023-08-14T12:59:49.104Z"
   },
   {
    "duration": 17,
    "start_time": "2023-08-14T12:59:55.114Z"
   },
   {
    "duration": 10,
    "start_time": "2023-08-14T13:00:37.992Z"
   },
   {
    "duration": 28,
    "start_time": "2023-08-14T13:00:38.472Z"
   },
   {
    "duration": 16,
    "start_time": "2023-08-14T13:00:50.603Z"
   },
   {
    "duration": 12,
    "start_time": "2023-08-14T13:01:10.995Z"
   },
   {
    "duration": 4,
    "start_time": "2023-08-14T13:03:26.491Z"
   },
   {
    "duration": 45,
    "start_time": "2023-08-14T13:03:26.497Z"
   },
   {
    "duration": 12,
    "start_time": "2023-08-14T13:03:26.544Z"
   },
   {
    "duration": 15,
    "start_time": "2023-08-14T13:03:26.557Z"
   },
   {
    "duration": 18,
    "start_time": "2023-08-14T13:03:26.574Z"
   },
   {
    "duration": 18,
    "start_time": "2023-08-14T13:03:26.593Z"
   },
   {
    "duration": 27,
    "start_time": "2023-08-14T13:03:26.612Z"
   },
   {
    "duration": 19,
    "start_time": "2023-08-14T13:03:26.640Z"
   },
   {
    "duration": 9,
    "start_time": "2023-08-14T13:03:26.660Z"
   },
   {
    "duration": 19,
    "start_time": "2023-08-14T13:03:26.670Z"
   },
   {
    "duration": 13,
    "start_time": "2023-08-14T13:03:26.691Z"
   },
   {
    "duration": 16,
    "start_time": "2023-08-14T13:03:26.706Z"
   },
   {
    "duration": 39,
    "start_time": "2023-08-14T13:03:26.723Z"
   },
   {
    "duration": 48,
    "start_time": "2023-08-14T13:03:26.766Z"
   },
   {
    "duration": 24,
    "start_time": "2023-08-14T13:03:26.816Z"
   },
   {
    "duration": 23,
    "start_time": "2023-08-14T13:03:26.843Z"
   },
   {
    "duration": 24,
    "start_time": "2023-08-14T13:03:26.868Z"
   },
   {
    "duration": 26,
    "start_time": "2023-08-14T13:03:26.894Z"
   },
   {
    "duration": 24,
    "start_time": "2023-08-14T13:03:26.922Z"
   },
   {
    "duration": 32,
    "start_time": "2023-08-14T13:03:26.948Z"
   },
   {
    "duration": 24,
    "start_time": "2023-08-14T13:03:26.989Z"
   },
   {
    "duration": 47,
    "start_time": "2023-08-14T13:03:27.015Z"
   },
   {
    "duration": 26,
    "start_time": "2023-08-14T13:03:27.064Z"
   },
   {
    "duration": 5,
    "start_time": "2023-08-14T13:11:49.125Z"
   },
   {
    "duration": 6,
    "start_time": "2023-08-14T13:15:19.325Z"
   },
   {
    "duration": 59,
    "start_time": "2023-08-14T13:17:25.121Z"
   },
   {
    "duration": 6,
    "start_time": "2023-08-14T13:18:29.039Z"
   },
   {
    "duration": 11,
    "start_time": "2023-08-14T13:18:35.924Z"
   },
   {
    "duration": 24,
    "start_time": "2023-08-14T13:18:55.763Z"
   },
   {
    "duration": 9,
    "start_time": "2023-08-14T13:23:16.311Z"
   },
   {
    "duration": 973,
    "start_time": "2023-08-14T13:25:09.660Z"
   },
   {
    "duration": 19,
    "start_time": "2023-08-14T13:25:35.568Z"
   },
   {
    "duration": 13,
    "start_time": "2023-08-14T13:26:05.661Z"
   },
   {
    "duration": 107,
    "start_time": "2023-08-14T13:26:15.818Z"
   },
   {
    "duration": 17,
    "start_time": "2023-08-14T13:26:51.569Z"
   },
   {
    "duration": 7,
    "start_time": "2023-08-14T13:28:03.133Z"
   },
   {
    "duration": 116,
    "start_time": "2023-08-14T13:28:32.639Z"
   },
   {
    "duration": 113,
    "start_time": "2023-08-14T13:29:24.137Z"
   },
   {
    "duration": 129,
    "start_time": "2023-08-14T13:30:32.929Z"
   },
   {
    "duration": 108,
    "start_time": "2023-08-14T13:30:43.190Z"
   },
   {
    "duration": 6,
    "start_time": "2023-08-14T13:30:53.680Z"
   },
   {
    "duration": 4,
    "start_time": "2023-08-14T13:30:57.055Z"
   },
   {
    "duration": 49,
    "start_time": "2023-08-15T17:39:23.552Z"
   },
   {
    "duration": 1718,
    "start_time": "2023-08-15T17:39:30.241Z"
   },
   {
    "duration": 161,
    "start_time": "2023-08-15T17:39:31.961Z"
   },
   {
    "duration": 19,
    "start_time": "2023-08-15T17:39:32.124Z"
   },
   {
    "duration": 115,
    "start_time": "2023-08-15T17:39:32.145Z"
   },
   {
    "duration": 31,
    "start_time": "2023-08-15T17:39:32.262Z"
   },
   {
    "duration": 12,
    "start_time": "2023-08-15T17:39:32.294Z"
   },
   {
    "duration": 21,
    "start_time": "2023-08-15T17:39:32.309Z"
   },
   {
    "duration": 23,
    "start_time": "2023-08-15T17:39:32.332Z"
   },
   {
    "duration": 19,
    "start_time": "2023-08-15T17:39:32.358Z"
   },
   {
    "duration": 24,
    "start_time": "2023-08-15T17:39:32.379Z"
   },
   {
    "duration": 34,
    "start_time": "2023-08-15T17:39:32.405Z"
   },
   {
    "duration": 29,
    "start_time": "2023-08-15T17:39:32.441Z"
   },
   {
    "duration": 21,
    "start_time": "2023-08-15T17:39:32.471Z"
   },
   {
    "duration": 22,
    "start_time": "2023-08-15T17:39:32.495Z"
   },
   {
    "duration": 35,
    "start_time": "2023-08-15T17:39:32.518Z"
   },
   {
    "duration": 32,
    "start_time": "2023-08-15T17:39:32.554Z"
   },
   {
    "duration": 23,
    "start_time": "2023-08-15T17:39:32.588Z"
   },
   {
    "duration": 34,
    "start_time": "2023-08-15T17:39:32.613Z"
   },
   {
    "duration": 10,
    "start_time": "2023-08-15T17:39:32.649Z"
   },
   {
    "duration": 38,
    "start_time": "2023-08-15T17:39:32.661Z"
   },
   {
    "duration": 10,
    "start_time": "2023-08-15T17:39:32.701Z"
   },
   {
    "duration": 17,
    "start_time": "2023-08-15T17:39:32.713Z"
   },
   {
    "duration": 30,
    "start_time": "2023-08-15T17:39:32.731Z"
   },
   {
    "duration": 15,
    "start_time": "2023-08-15T17:39:32.763Z"
   },
   {
    "duration": 203,
    "start_time": "2023-08-15T17:39:32.780Z"
   },
   {
    "duration": 12,
    "start_time": "2023-08-15T17:39:35.385Z"
   },
   {
    "duration": 11,
    "start_time": "2023-08-15T17:39:46.634Z"
   },
   {
    "duration": 11,
    "start_time": "2023-08-15T17:41:15.983Z"
   },
   {
    "duration": 10,
    "start_time": "2023-08-15T17:42:17.345Z"
   },
   {
    "duration": 9,
    "start_time": "2023-08-15T17:42:28.897Z"
   },
   {
    "duration": 5,
    "start_time": "2023-08-15T17:43:07.521Z"
   },
   {
    "duration": 5,
    "start_time": "2023-08-15T17:46:34.864Z"
   },
   {
    "duration": 118,
    "start_time": "2023-08-15T17:46:38.884Z"
   },
   {
    "duration": 3,
    "start_time": "2023-08-15T18:10:05.966Z"
   },
   {
    "duration": 119,
    "start_time": "2023-08-15T18:14:34.205Z"
   },
   {
    "duration": 1016,
    "start_time": "2023-08-15T18:14:48.058Z"
   },
   {
    "duration": 1699,
    "start_time": "2023-08-15T18:22:37.252Z"
   },
   {
    "duration": 878,
    "start_time": "2023-08-15T18:23:01.140Z"
   },
   {
    "duration": 851,
    "start_time": "2023-08-15T18:23:10.991Z"
   },
   {
    "duration": 1721,
    "start_time": "2023-08-15T18:23:28.356Z"
   },
   {
    "duration": 520,
    "start_time": "2023-08-15T18:24:23.104Z"
   },
   {
    "duration": 1219,
    "start_time": "2023-08-15T18:24:32.348Z"
   },
   {
    "duration": 788,
    "start_time": "2023-08-15T18:26:48.870Z"
   },
   {
    "duration": 271,
    "start_time": "2023-08-15T18:27:35.893Z"
   },
   {
    "duration": 269,
    "start_time": "2023-08-15T18:29:03.149Z"
   },
   {
    "duration": 260,
    "start_time": "2023-08-15T18:30:49.642Z"
   },
   {
    "duration": 266,
    "start_time": "2023-08-15T18:31:46.230Z"
   },
   {
    "duration": 269,
    "start_time": "2023-08-15T18:35:04.898Z"
   },
   {
    "duration": 252,
    "start_time": "2023-08-15T18:39:07.359Z"
   },
   {
    "duration": 16452,
    "start_time": "2023-08-15T19:00:58.358Z"
   },
   {
    "duration": 114,
    "start_time": "2023-08-15T19:06:39.945Z"
   },
   {
    "duration": 5,
    "start_time": "2023-08-15T19:06:48.885Z"
   },
   {
    "duration": 112,
    "start_time": "2023-08-15T19:07:12.670Z"
   },
   {
    "duration": 112,
    "start_time": "2023-08-15T19:07:25.790Z"
   },
   {
    "duration": 224,
    "start_time": "2023-08-15T19:07:39.926Z"
   },
   {
    "duration": 5,
    "start_time": "2023-08-15T19:10:16.605Z"
   },
   {
    "duration": 8,
    "start_time": "2023-08-15T19:10:20.436Z"
   },
   {
    "duration": 50,
    "start_time": "2023-08-16T05:55:42.576Z"
   },
   {
    "duration": 1514,
    "start_time": "2023-08-16T05:55:46.451Z"
   },
   {
    "duration": 91,
    "start_time": "2023-08-16T05:55:47.967Z"
   },
   {
    "duration": 15,
    "start_time": "2023-08-16T05:55:48.059Z"
   },
   {
    "duration": 15,
    "start_time": "2023-08-16T05:55:48.075Z"
   },
   {
    "duration": 10,
    "start_time": "2023-08-16T05:55:48.093Z"
   },
   {
    "duration": 20,
    "start_time": "2023-08-16T05:55:48.105Z"
   },
   {
    "duration": 10,
    "start_time": "2023-08-16T05:55:48.127Z"
   },
   {
    "duration": 12,
    "start_time": "2023-08-16T05:55:48.139Z"
   },
   {
    "duration": 12,
    "start_time": "2023-08-16T05:55:48.152Z"
   },
   {
    "duration": 17,
    "start_time": "2023-08-16T05:55:48.165Z"
   },
   {
    "duration": 30,
    "start_time": "2023-08-16T05:55:48.183Z"
   },
   {
    "duration": 13,
    "start_time": "2023-08-16T05:55:48.215Z"
   },
   {
    "duration": 14,
    "start_time": "2023-08-16T05:55:48.230Z"
   },
   {
    "duration": 8,
    "start_time": "2023-08-16T05:55:48.246Z"
   },
   {
    "duration": 16,
    "start_time": "2023-08-16T05:55:48.255Z"
   },
   {
    "duration": 3,
    "start_time": "2023-08-16T05:55:48.273Z"
   },
   {
    "duration": 4,
    "start_time": "2023-08-16T05:55:48.278Z"
   },
   {
    "duration": 11,
    "start_time": "2023-08-16T05:55:48.284Z"
   },
   {
    "duration": 26,
    "start_time": "2023-08-16T05:55:48.296Z"
   },
   {
    "duration": 17,
    "start_time": "2023-08-16T05:55:48.324Z"
   },
   {
    "duration": 7,
    "start_time": "2023-08-16T05:55:48.342Z"
   },
   {
    "duration": 29,
    "start_time": "2023-08-16T05:55:48.351Z"
   },
   {
    "duration": 12,
    "start_time": "2023-08-16T05:55:48.381Z"
   },
   {
    "duration": 4,
    "start_time": "2023-08-16T05:55:48.394Z"
   },
   {
    "duration": 125,
    "start_time": "2023-08-16T05:55:48.399Z"
   },
   {
    "duration": 8,
    "start_time": "2023-08-16T05:55:48.526Z"
   },
   {
    "duration": 13,
    "start_time": "2023-08-16T05:55:48.536Z"
   },
   {
    "duration": 4,
    "start_time": "2023-08-16T05:55:48.550Z"
   },
   {
    "duration": 766,
    "start_time": "2023-08-16T05:55:48.555Z"
   },
   {
    "duration": 263,
    "start_time": "2023-08-16T05:55:53.353Z"
   },
   {
    "duration": 248,
    "start_time": "2023-08-16T06:00:54.521Z"
   },
   {
    "duration": 49,
    "start_time": "2023-08-17T17:38:13.645Z"
   },
   {
    "duration": 1586,
    "start_time": "2023-08-17T17:38:20.033Z"
   },
   {
    "duration": 82,
    "start_time": "2023-08-17T17:38:21.621Z"
   },
   {
    "duration": 18,
    "start_time": "2023-08-17T17:38:21.705Z"
   },
   {
    "duration": 19,
    "start_time": "2023-08-17T17:38:21.726Z"
   },
   {
    "duration": 10,
    "start_time": "2023-08-17T17:38:21.747Z"
   },
   {
    "duration": 4,
    "start_time": "2023-08-17T17:38:21.759Z"
   },
   {
    "duration": 33,
    "start_time": "2023-08-17T17:38:21.765Z"
   },
   {
    "duration": 12,
    "start_time": "2023-08-17T17:38:21.800Z"
   },
   {
    "duration": 6,
    "start_time": "2023-08-17T17:38:21.814Z"
   },
   {
    "duration": 4,
    "start_time": "2023-08-17T17:38:21.822Z"
   },
   {
    "duration": 21,
    "start_time": "2023-08-17T17:38:21.827Z"
   },
   {
    "duration": 11,
    "start_time": "2023-08-17T17:38:21.850Z"
   },
   {
    "duration": 9,
    "start_time": "2023-08-17T17:38:21.863Z"
   },
   {
    "duration": 7,
    "start_time": "2023-08-17T17:38:21.873Z"
   },
   {
    "duration": 19,
    "start_time": "2023-08-17T17:38:21.895Z"
   },
   {
    "duration": 5,
    "start_time": "2023-08-17T17:38:21.916Z"
   },
   {
    "duration": 8,
    "start_time": "2023-08-17T17:38:21.923Z"
   },
   {
    "duration": 19,
    "start_time": "2023-08-17T17:38:21.932Z"
   },
   {
    "duration": 4,
    "start_time": "2023-08-17T17:38:21.953Z"
   },
   {
    "duration": 46,
    "start_time": "2023-08-17T17:38:21.959Z"
   },
   {
    "duration": 12,
    "start_time": "2023-08-17T17:38:22.008Z"
   },
   {
    "duration": 18,
    "start_time": "2023-08-17T17:38:22.022Z"
   },
   {
    "duration": 20,
    "start_time": "2023-08-17T17:38:22.042Z"
   },
   {
    "duration": 5,
    "start_time": "2023-08-17T17:38:22.064Z"
   },
   {
    "duration": 170,
    "start_time": "2023-08-17T17:38:22.070Z"
   },
   {
    "duration": 12,
    "start_time": "2023-08-17T17:38:22.241Z"
   },
   {
    "duration": 106,
    "start_time": "2023-08-17T17:38:22.255Z"
   },
   {
    "duration": 0,
    "start_time": "2023-08-17T17:38:22.363Z"
   },
   {
    "duration": 0,
    "start_time": "2023-08-17T17:38:22.364Z"
   },
   {
    "duration": 0,
    "start_time": "2023-08-17T17:38:22.365Z"
   },
   {
    "duration": 0,
    "start_time": "2023-08-17T17:38:22.366Z"
   },
   {
    "duration": 0,
    "start_time": "2023-08-17T17:38:22.367Z"
   },
   {
    "duration": 0,
    "start_time": "2023-08-17T17:38:22.368Z"
   },
   {
    "duration": 9,
    "start_time": "2023-08-17T17:38:58.654Z"
   },
   {
    "duration": 5,
    "start_time": "2023-08-17T17:39:00.097Z"
   },
   {
    "duration": 1003,
    "start_time": "2023-08-17T17:39:10.605Z"
   },
   {
    "duration": 235,
    "start_time": "2023-08-17T17:39:14.645Z"
   },
   {
    "duration": 15036,
    "start_time": "2023-08-17T17:39:19.656Z"
   },
   {
    "duration": 3,
    "start_time": "2023-08-17T17:49:03.005Z"
   },
   {
    "duration": 12,
    "start_time": "2023-08-17T17:51:24.289Z"
   },
   {
    "duration": 502,
    "start_time": "2023-08-17T17:53:50.798Z"
   },
   {
    "duration": 166,
    "start_time": "2023-08-17T17:55:12.081Z"
   },
   {
    "duration": 5,
    "start_time": "2023-08-17T17:55:30.442Z"
   },
   {
    "duration": 14542,
    "start_time": "2023-08-17T17:56:33.142Z"
   },
   {
    "duration": 1136,
    "start_time": "2023-08-17T18:12:43.661Z"
   },
   {
    "duration": 1005,
    "start_time": "2023-08-17T18:12:57.410Z"
   },
   {
    "duration": 202,
    "start_time": "2023-08-17T18:13:48.252Z"
   },
   {
    "duration": 15884,
    "start_time": "2023-08-17T18:14:32.519Z"
   },
   {
    "duration": 5,
    "start_time": "2023-08-17T18:23:25.863Z"
   },
   {
    "duration": 18,
    "start_time": "2023-08-17T18:29:03.553Z"
   },
   {
    "duration": 20,
    "start_time": "2023-08-17T18:30:04.219Z"
   },
   {
    "duration": 4,
    "start_time": "2023-08-17T18:30:23.866Z"
   },
   {
    "duration": 29,
    "start_time": "2023-08-17T18:30:27.388Z"
   },
   {
    "duration": 12,
    "start_time": "2023-08-17T18:30:46.190Z"
   },
   {
    "duration": 13,
    "start_time": "2023-08-17T18:31:14.034Z"
   },
   {
    "duration": 12,
    "start_time": "2023-08-17T18:31:32.868Z"
   },
   {
    "duration": 4,
    "start_time": "2023-08-17T18:31:37.553Z"
   },
   {
    "duration": 122,
    "start_time": "2023-08-17T18:32:44.855Z"
   },
   {
    "duration": 13,
    "start_time": "2023-08-17T18:33:05.970Z"
   },
   {
    "duration": 6,
    "start_time": "2023-08-17T18:33:06.775Z"
   },
   {
    "duration": 123,
    "start_time": "2023-08-17T18:33:08.290Z"
   },
   {
    "duration": 1226,
    "start_time": "2023-08-17T18:36:55.592Z"
   },
   {
    "duration": 284,
    "start_time": "2023-08-17T18:37:50.089Z"
   },
   {
    "duration": 20982,
    "start_time": "2023-08-17T18:39:04.827Z"
   },
   {
    "duration": 55,
    "start_time": "2023-08-18T13:42:26.257Z"
   },
   {
    "duration": 8,
    "start_time": "2023-08-18T13:42:32.418Z"
   },
   {
    "duration": 6,
    "start_time": "2023-08-18T13:42:38.033Z"
   },
   {
    "duration": 1817,
    "start_time": "2023-08-18T13:42:45.648Z"
   },
   {
    "duration": 171,
    "start_time": "2023-08-18T13:42:47.467Z"
   },
   {
    "duration": 17,
    "start_time": "2023-08-18T13:42:47.640Z"
   },
   {
    "duration": 32,
    "start_time": "2023-08-18T13:42:47.659Z"
   },
   {
    "duration": 19,
    "start_time": "2023-08-18T13:42:47.693Z"
   },
   {
    "duration": 27,
    "start_time": "2023-08-18T13:42:47.713Z"
   },
   {
    "duration": 30,
    "start_time": "2023-08-18T13:42:47.742Z"
   },
   {
    "duration": 7,
    "start_time": "2023-08-18T13:42:47.781Z"
   },
   {
    "duration": 6,
    "start_time": "2023-08-18T13:42:47.790Z"
   },
   {
    "duration": 5,
    "start_time": "2023-08-18T13:42:47.798Z"
   },
   {
    "duration": 16,
    "start_time": "2023-08-18T13:42:47.805Z"
   },
   {
    "duration": 11,
    "start_time": "2023-08-18T13:42:47.823Z"
   },
   {
    "duration": 4,
    "start_time": "2023-08-18T13:42:47.836Z"
   },
   {
    "duration": 38,
    "start_time": "2023-08-18T13:42:47.842Z"
   },
   {
    "duration": 13,
    "start_time": "2023-08-18T13:42:47.882Z"
   },
   {
    "duration": 4,
    "start_time": "2023-08-18T13:42:47.897Z"
   },
   {
    "duration": 28,
    "start_time": "2023-08-18T13:42:47.903Z"
   },
   {
    "duration": 16,
    "start_time": "2023-08-18T13:42:47.933Z"
   },
   {
    "duration": 5,
    "start_time": "2023-08-18T13:42:47.950Z"
   },
   {
    "duration": 21,
    "start_time": "2023-08-18T13:42:47.957Z"
   },
   {
    "duration": 11,
    "start_time": "2023-08-18T13:42:47.980Z"
   },
   {
    "duration": 16,
    "start_time": "2023-08-18T13:42:47.993Z"
   },
   {
    "duration": 18,
    "start_time": "2023-08-18T13:42:48.011Z"
   },
   {
    "duration": 4,
    "start_time": "2023-08-18T13:42:48.031Z"
   },
   {
    "duration": 161,
    "start_time": "2023-08-18T13:42:48.037Z"
   },
   {
    "duration": 13,
    "start_time": "2023-08-18T13:42:48.199Z"
   },
   {
    "duration": 8,
    "start_time": "2023-08-18T13:42:48.213Z"
   },
   {
    "duration": 13,
    "start_time": "2023-08-18T13:42:48.226Z"
   },
   {
    "duration": 943,
    "start_time": "2023-08-18T13:42:48.241Z"
   },
   {
    "duration": 396,
    "start_time": "2023-08-18T13:42:49.187Z"
   },
   {
    "duration": 16587,
    "start_time": "2023-08-18T13:42:49.585Z"
   },
   {
    "duration": 9,
    "start_time": "2023-08-18T13:43:06.174Z"
   },
   {
    "duration": 132,
    "start_time": "2023-08-18T13:43:06.185Z"
   },
   {
    "duration": 10,
    "start_time": "2023-08-18T13:43:06.319Z"
   },
   {
    "duration": 350,
    "start_time": "2023-08-18T13:43:06.330Z"
   },
   {
    "duration": 368,
    "start_time": "2023-08-18T13:43:06.681Z"
   },
   {
    "duration": 16367,
    "start_time": "2023-08-18T13:43:07.051Z"
   },
   {
    "duration": 965,
    "start_time": "2023-08-18T13:43:23.420Z"
   },
   {
    "duration": 381,
    "start_time": "2023-08-18T13:43:24.387Z"
   },
   {
    "duration": 16653,
    "start_time": "2023-08-18T13:43:24.773Z"
   },
   {
    "duration": 4,
    "start_time": "2023-08-18T13:43:41.428Z"
   },
   {
    "duration": 46,
    "start_time": "2023-08-18T13:43:41.434Z"
   },
   {
    "duration": 17,
    "start_time": "2023-08-18T13:43:41.482Z"
   },
   {
    "duration": 194,
    "start_time": "2023-08-18T13:43:41.501Z"
   },
   {
    "duration": 1085,
    "start_time": "2023-08-18T13:43:41.697Z"
   },
   {
    "duration": 474,
    "start_time": "2023-08-18T13:43:42.784Z"
   },
   {
    "duration": 22119,
    "start_time": "2023-08-18T13:43:43.260Z"
   },
   {
    "duration": 4,
    "start_time": "2023-08-18T13:44:05.381Z"
   },
   {
    "duration": 1197,
    "start_time": "2023-08-18T13:44:05.387Z"
   },
   {
    "duration": 116,
    "start_time": "2023-08-18T13:44:42.487Z"
   },
   {
    "duration": 98,
    "start_time": "2023-08-18T13:45:26.836Z"
   },
   {
    "duration": 17,
    "start_time": "2023-08-18T13:48:39.709Z"
   },
   {
    "duration": 16,
    "start_time": "2023-08-18T13:50:30.697Z"
   },
   {
    "duration": 3,
    "start_time": "2023-08-18T13:50:43.592Z"
   },
   {
    "duration": 143,
    "start_time": "2023-08-18T13:50:56.163Z"
   },
   {
    "duration": 86,
    "start_time": "2023-08-18T13:52:20.588Z"
   },
   {
    "duration": 91,
    "start_time": "2023-08-18T13:53:41.780Z"
   },
   {
    "duration": 193,
    "start_time": "2023-08-18T13:54:06.201Z"
   },
   {
    "duration": 143,
    "start_time": "2023-08-18T13:54:37.153Z"
   },
   {
    "duration": 58,
    "start_time": "2023-08-18T13:56:48.631Z"
   },
   {
    "duration": 269,
    "start_time": "2023-08-18T14:02:36.612Z"
   },
   {
    "duration": 30,
    "start_time": "2023-08-18T14:04:42.600Z"
   },
   {
    "duration": 17616,
    "start_time": "2023-08-18T14:05:33.318Z"
   },
   {
    "duration": 33,
    "start_time": "2023-08-18T14:06:03.209Z"
   },
   {
    "duration": 18663,
    "start_time": "2023-08-18T14:14:49.398Z"
   },
   {
    "duration": 18,
    "start_time": "2023-08-18T14:15:35.940Z"
   },
   {
    "duration": 43,
    "start_time": "2023-08-18T14:16:56.320Z"
   },
   {
    "duration": 52,
    "start_time": "2023-08-18T14:17:01.199Z"
   },
   {
    "duration": 5,
    "start_time": "2023-08-18T14:23:51.662Z"
   },
   {
    "duration": 7,
    "start_time": "2023-08-18T14:24:14.429Z"
   },
   {
    "duration": 95,
    "start_time": "2023-08-18T14:24:14.439Z"
   },
   {
    "duration": 58,
    "start_time": "2023-08-18T14:24:14.536Z"
   },
   {
    "duration": 45,
    "start_time": "2023-08-18T14:24:14.597Z"
   },
   {
    "duration": 22,
    "start_time": "2023-08-18T14:24:14.645Z"
   },
   {
    "duration": 14,
    "start_time": "2023-08-18T14:24:14.669Z"
   },
   {
    "duration": 35,
    "start_time": "2023-08-18T14:24:14.686Z"
   },
   {
    "duration": 35,
    "start_time": "2023-08-18T14:24:14.724Z"
   },
   {
    "duration": 50,
    "start_time": "2023-08-18T14:24:14.761Z"
   },
   {
    "duration": 15,
    "start_time": "2023-08-18T14:24:14.814Z"
   },
   {
    "duration": 29,
    "start_time": "2023-08-18T14:24:14.831Z"
   },
   {
    "duration": 17,
    "start_time": "2023-08-18T14:24:14.863Z"
   },
   {
    "duration": 19,
    "start_time": "2023-08-18T14:24:14.882Z"
   },
   {
    "duration": 11,
    "start_time": "2023-08-18T14:24:14.903Z"
   },
   {
    "duration": 17,
    "start_time": "2023-08-18T14:24:14.916Z"
   },
   {
    "duration": 27,
    "start_time": "2023-08-18T14:24:14.936Z"
   },
   {
    "duration": 23,
    "start_time": "2023-08-18T14:24:14.965Z"
   },
   {
    "duration": 24,
    "start_time": "2023-08-18T14:24:14.990Z"
   },
   {
    "duration": 109,
    "start_time": "2023-08-18T14:24:15.017Z"
   },
   {
    "duration": 50,
    "start_time": "2023-08-18T14:24:15.129Z"
   },
   {
    "duration": 16,
    "start_time": "2023-08-18T14:24:15.181Z"
   },
   {
    "duration": 43,
    "start_time": "2023-08-18T14:24:15.199Z"
   },
   {
    "duration": 26,
    "start_time": "2023-08-18T14:24:15.246Z"
   },
   {
    "duration": 18,
    "start_time": "2023-08-18T14:24:15.275Z"
   },
   {
    "duration": 169,
    "start_time": "2023-08-18T14:24:15.295Z"
   },
   {
    "duration": 17,
    "start_time": "2023-08-18T14:24:15.467Z"
   },
   {
    "duration": 20,
    "start_time": "2023-08-18T14:24:15.486Z"
   },
   {
    "duration": 24,
    "start_time": "2023-08-18T14:24:15.512Z"
   },
   {
    "duration": 67,
    "start_time": "2023-08-18T14:24:18.113Z"
   },
   {
    "duration": 79,
    "start_time": "2023-08-18T14:24:26.291Z"
   },
   {
    "duration": 10,
    "start_time": "2023-08-18T14:29:41.517Z"
   },
   {
    "duration": 17867,
    "start_time": "2023-08-18T14:30:58.760Z"
   },
   {
    "duration": 18,
    "start_time": "2023-08-18T14:31:18.533Z"
   },
   {
    "duration": 270,
    "start_time": "2023-08-18T14:31:28.823Z"
   },
   {
    "duration": 14,
    "start_time": "2023-08-18T14:31:29.814Z"
   },
   {
    "duration": 5,
    "start_time": "2023-08-18T14:32:26.268Z"
   },
   {
    "duration": 46,
    "start_time": "2023-08-18T14:32:26.274Z"
   },
   {
    "duration": 14,
    "start_time": "2023-08-18T14:32:26.322Z"
   },
   {
    "duration": 24,
    "start_time": "2023-08-18T14:32:26.338Z"
   },
   {
    "duration": 11,
    "start_time": "2023-08-18T14:32:26.364Z"
   },
   {
    "duration": 18,
    "start_time": "2023-08-18T14:32:26.377Z"
   },
   {
    "duration": 64,
    "start_time": "2023-08-18T14:32:26.397Z"
   },
   {
    "duration": 21,
    "start_time": "2023-08-18T14:32:26.463Z"
   },
   {
    "duration": 43,
    "start_time": "2023-08-18T14:32:26.488Z"
   },
   {
    "duration": 25,
    "start_time": "2023-08-18T14:32:26.532Z"
   },
   {
    "duration": 38,
    "start_time": "2023-08-18T14:32:26.559Z"
   },
   {
    "duration": 13,
    "start_time": "2023-08-18T14:32:26.599Z"
   },
   {
    "duration": 16,
    "start_time": "2023-08-18T14:32:26.614Z"
   },
   {
    "duration": 11,
    "start_time": "2023-08-18T14:32:26.632Z"
   },
   {
    "duration": 41,
    "start_time": "2023-08-18T14:32:26.645Z"
   },
   {
    "duration": 5,
    "start_time": "2023-08-18T14:32:26.688Z"
   },
   {
    "duration": 7,
    "start_time": "2023-08-18T14:32:26.695Z"
   },
   {
    "duration": 78,
    "start_time": "2023-08-18T14:32:26.704Z"
   },
   {
    "duration": 4,
    "start_time": "2023-08-18T14:32:26.784Z"
   },
   {
    "duration": 30,
    "start_time": "2023-08-18T14:32:26.790Z"
   },
   {
    "duration": 9,
    "start_time": "2023-08-18T14:32:26.822Z"
   },
   {
    "duration": 13,
    "start_time": "2023-08-18T14:32:26.833Z"
   },
   {
    "duration": 19,
    "start_time": "2023-08-18T14:32:26.848Z"
   },
   {
    "duration": 27,
    "start_time": "2023-08-18T14:32:26.871Z"
   },
   {
    "duration": 137,
    "start_time": "2023-08-18T14:32:26.900Z"
   },
   {
    "duration": 11,
    "start_time": "2023-08-18T14:32:27.039Z"
   },
   {
    "duration": 21,
    "start_time": "2023-08-18T14:32:27.052Z"
   },
   {
    "duration": 23,
    "start_time": "2023-08-18T14:32:27.075Z"
   },
   {
    "duration": 972,
    "start_time": "2023-08-18T14:32:27.099Z"
   },
   {
    "duration": 194,
    "start_time": "2023-08-18T14:32:28.074Z"
   },
   {
    "duration": 336,
    "start_time": "2023-08-18T14:32:28.270Z"
   },
   {
    "duration": 8,
    "start_time": "2023-08-18T14:32:28.608Z"
   },
   {
    "duration": 16290,
    "start_time": "2023-08-18T14:32:28.618Z"
   },
   {
    "duration": 17,
    "start_time": "2023-08-18T14:32:44.914Z"
   },
   {
    "duration": 12,
    "start_time": "2023-08-18T14:32:44.934Z"
   },
   {
    "duration": 323,
    "start_time": "2023-08-18T14:32:44.947Z"
   },
   {
    "duration": 297,
    "start_time": "2023-08-18T14:32:45.272Z"
   },
   {
    "duration": 16273,
    "start_time": "2023-08-18T14:32:45.571Z"
   },
   {
    "duration": 1049,
    "start_time": "2023-08-18T14:33:01.846Z"
   },
   {
    "duration": 374,
    "start_time": "2023-08-18T14:33:02.897Z"
   },
   {
    "duration": 16759,
    "start_time": "2023-08-18T14:33:03.273Z"
   },
   {
    "duration": 5,
    "start_time": "2023-08-18T14:33:20.035Z"
   },
   {
    "duration": 54,
    "start_time": "2023-08-18T14:33:20.042Z"
   },
   {
    "duration": 50,
    "start_time": "2023-08-18T14:33:20.098Z"
   },
   {
    "duration": 166,
    "start_time": "2023-08-18T14:33:20.150Z"
   },
   {
    "duration": 1166,
    "start_time": "2023-08-18T14:33:20.318Z"
   },
   {
    "duration": 487,
    "start_time": "2023-08-18T14:33:21.486Z"
   },
   {
    "duration": 21830,
    "start_time": "2023-08-18T14:33:21.975Z"
   },
   {
    "duration": 5,
    "start_time": "2023-08-18T14:33:43.807Z"
   },
   {
    "duration": 188,
    "start_time": "2023-08-18T14:33:43.814Z"
   },
   {
    "duration": 1279,
    "start_time": "2023-08-18T14:33:44.005Z"
   },
   {
    "duration": 292,
    "start_time": "2023-08-18T14:33:45.289Z"
   },
   {
    "duration": 266,
    "start_time": "2023-08-18T14:33:45.583Z"
   },
   {
    "duration": 35,
    "start_time": "2023-08-18T14:33:45.851Z"
   },
   {
    "duration": 16937,
    "start_time": "2023-08-18T14:33:45.889Z"
   },
   {
    "duration": 46,
    "start_time": "2023-08-18T14:34:02.828Z"
   },
   {
    "duration": 17668,
    "start_time": "2023-08-18T14:34:02.877Z"
   },
   {
    "duration": 60,
    "start_time": "2023-08-18T14:34:20.547Z"
   },
   {
    "duration": 57,
    "start_time": "2023-08-18T14:34:20.613Z"
   },
   {
    "duration": 1024,
    "start_time": "2023-08-18T14:34:57.353Z"
   },
   {
    "duration": 89,
    "start_time": "2023-08-18T14:34:58.379Z"
   },
   {
    "duration": 11,
    "start_time": "2023-08-18T14:35:43.060Z"
   },
   {
    "duration": 26,
    "start_time": "2023-08-18T14:36:26.456Z"
   },
   {
    "duration": 222,
    "start_time": "2023-08-18T14:36:29.883Z"
   },
   {
    "duration": 10,
    "start_time": "2023-08-18T14:36:30.625Z"
   },
   {
    "duration": 1116,
    "start_time": "2023-08-18T14:36:37.673Z"
   },
   {
    "duration": 14,
    "start_time": "2023-08-18T14:36:40.122Z"
   },
   {
    "duration": 232,
    "start_time": "2023-08-18T14:36:42.132Z"
   },
   {
    "duration": 10,
    "start_time": "2023-08-18T14:36:43.055Z"
   },
   {
    "duration": 17341,
    "start_time": "2023-08-18T14:37:51.210Z"
   },
   {
    "duration": 25,
    "start_time": "2023-08-18T14:38:21.882Z"
   },
   {
    "duration": 1156,
    "start_time": "2023-08-18T14:39:37.732Z"
   },
   {
    "duration": 15,
    "start_time": "2023-08-18T14:39:47.070Z"
   },
   {
    "duration": 10,
    "start_time": "2023-08-18T14:40:16.755Z"
   },
   {
    "duration": 358,
    "start_time": "2023-08-18T14:40:23.851Z"
   },
   {
    "duration": 11,
    "start_time": "2023-08-18T14:40:26.325Z"
   },
   {
    "duration": 222,
    "start_time": "2023-08-18T14:40:35.956Z"
   },
   {
    "duration": 10,
    "start_time": "2023-08-18T14:40:36.989Z"
   },
   {
    "duration": 302,
    "start_time": "2023-08-18T14:40:41.895Z"
   },
   {
    "duration": 11,
    "start_time": "2023-08-18T14:40:42.790Z"
   },
   {
    "duration": 21999,
    "start_time": "2023-08-18T14:41:36.569Z"
   },
   {
    "duration": 44,
    "start_time": "2023-08-18T14:42:01.219Z"
   },
   {
    "duration": 4,
    "start_time": "2023-08-18T14:43:19.583Z"
   },
   {
    "duration": 109,
    "start_time": "2023-08-18T14:43:20.064Z"
   },
   {
    "duration": 1197,
    "start_time": "2023-08-18T14:43:23.189Z"
   },
   {
    "duration": 190,
    "start_time": "2023-08-18T14:43:27.680Z"
   },
   {
    "duration": 16095,
    "start_time": "2023-08-18T14:48:38.556Z"
   },
   {
    "duration": 48,
    "start_time": "2023-08-18T14:48:58.840Z"
   },
   {
    "duration": 27,
    "start_time": "2023-08-18T14:49:35.445Z"
   },
   {
    "duration": 4,
    "start_time": "2023-08-18T14:54:32.599Z"
   },
   {
    "duration": 69,
    "start_time": "2023-08-18T14:54:32.607Z"
   },
   {
    "duration": 14,
    "start_time": "2023-08-18T14:54:32.678Z"
   },
   {
    "duration": 42,
    "start_time": "2023-08-18T14:54:32.693Z"
   },
   {
    "duration": 17,
    "start_time": "2023-08-18T14:54:32.737Z"
   },
   {
    "duration": 13,
    "start_time": "2023-08-18T14:54:32.756Z"
   },
   {
    "duration": 22,
    "start_time": "2023-08-18T14:54:32.771Z"
   },
   {
    "duration": 19,
    "start_time": "2023-08-18T14:54:32.794Z"
   },
   {
    "duration": 24,
    "start_time": "2023-08-18T14:54:32.814Z"
   },
   {
    "duration": 22,
    "start_time": "2023-08-18T14:54:32.839Z"
   },
   {
    "duration": 43,
    "start_time": "2023-08-18T14:54:32.864Z"
   },
   {
    "duration": 17,
    "start_time": "2023-08-18T14:54:32.908Z"
   },
   {
    "duration": 12,
    "start_time": "2023-08-18T14:54:32.927Z"
   },
   {
    "duration": 36,
    "start_time": "2023-08-18T14:54:32.940Z"
   },
   {
    "duration": 27,
    "start_time": "2023-08-18T14:54:32.978Z"
   },
   {
    "duration": 15,
    "start_time": "2023-08-18T14:54:33.007Z"
   },
   {
    "duration": 43,
    "start_time": "2023-08-18T14:54:33.023Z"
   },
   {
    "duration": 39,
    "start_time": "2023-08-18T14:54:33.068Z"
   },
   {
    "duration": 7,
    "start_time": "2023-08-18T14:54:33.109Z"
   },
   {
    "duration": 27,
    "start_time": "2023-08-18T14:54:33.117Z"
   },
   {
    "duration": 13,
    "start_time": "2023-08-18T14:54:33.146Z"
   },
   {
    "duration": 32,
    "start_time": "2023-08-18T14:54:33.161Z"
   },
   {
    "duration": 49,
    "start_time": "2023-08-18T14:54:33.194Z"
   },
   {
    "duration": 41,
    "start_time": "2023-08-18T14:54:33.245Z"
   },
   {
    "duration": 126,
    "start_time": "2023-08-18T14:54:33.288Z"
   },
   {
    "duration": 11,
    "start_time": "2023-08-18T14:54:33.416Z"
   },
   {
    "duration": 13,
    "start_time": "2023-08-18T14:54:33.428Z"
   },
   {
    "duration": 18,
    "start_time": "2023-08-18T14:54:33.443Z"
   },
   {
    "duration": 1007,
    "start_time": "2023-08-18T14:54:33.464Z"
   },
   {
    "duration": 99,
    "start_time": "2023-08-18T14:54:34.473Z"
   },
   {
    "duration": 434,
    "start_time": "2023-08-18T14:54:34.574Z"
   },
   {
    "duration": 9,
    "start_time": "2023-08-18T14:54:35.009Z"
   },
   {
    "duration": 15827,
    "start_time": "2023-08-18T14:54:35.020Z"
   },
   {
    "duration": 24,
    "start_time": "2023-08-18T14:54:50.849Z"
   },
   {
    "duration": 26,
    "start_time": "2023-08-18T14:54:50.875Z"
   },
   {
    "duration": 467,
    "start_time": "2023-08-18T14:54:50.903Z"
   },
   {
    "duration": 336,
    "start_time": "2023-08-18T14:54:51.372Z"
   },
   {
    "duration": 16100,
    "start_time": "2023-08-18T14:54:51.709Z"
   },
   {
    "duration": 1068,
    "start_time": "2023-08-18T14:55:07.811Z"
   },
   {
    "duration": 92,
    "start_time": "2023-08-18T14:55:08.881Z"
   },
   {
    "duration": 400,
    "start_time": "2023-08-18T14:55:08.975Z"
   },
   {
    "duration": 8,
    "start_time": "2023-08-18T14:55:09.377Z"
   },
   {
    "duration": 16245,
    "start_time": "2023-08-18T14:55:09.387Z"
   },
   {
    "duration": 23,
    "start_time": "2023-08-18T14:55:25.634Z"
   },
   {
    "duration": 4,
    "start_time": "2023-08-18T14:55:25.667Z"
   },
   {
    "duration": 21,
    "start_time": "2023-08-18T14:55:25.673Z"
   },
   {
    "duration": 4,
    "start_time": "2023-08-18T14:55:25.695Z"
   },
   {
    "duration": 118,
    "start_time": "2023-08-18T14:55:25.701Z"
   },
   {
    "duration": 1261,
    "start_time": "2023-08-18T14:55:25.820Z"
   },
   {
    "duration": 92,
    "start_time": "2023-08-18T14:55:27.083Z"
   },
   {
    "duration": 487,
    "start_time": "2023-08-18T14:55:27.176Z"
   },
   {
    "duration": 7,
    "start_time": "2023-08-18T14:55:27.667Z"
   },
   {
    "duration": 21091,
    "start_time": "2023-08-18T14:55:27.676Z"
   },
   {
    "duration": 42,
    "start_time": "2023-08-18T14:55:48.769Z"
   },
   {
    "duration": 4,
    "start_time": "2023-08-18T14:55:48.812Z"
   },
   {
    "duration": 124,
    "start_time": "2023-08-18T14:55:48.817Z"
   },
   {
    "duration": 1138,
    "start_time": "2023-08-18T14:55:48.942Z"
   },
   {
    "duration": 290,
    "start_time": "2023-08-18T14:55:50.082Z"
   },
   {
    "duration": 257,
    "start_time": "2023-08-18T14:55:50.374Z"
   },
   {
    "duration": 27,
    "start_time": "2023-08-18T14:55:50.633Z"
   },
   {
    "duration": 16207,
    "start_time": "2023-08-18T14:55:50.667Z"
   },
   {
    "duration": 32,
    "start_time": "2023-08-18T14:56:06.876Z"
   },
   {
    "duration": 16140,
    "start_time": "2023-08-18T14:56:06.910Z"
   },
   {
    "duration": 50,
    "start_time": "2023-08-18T14:56:23.051Z"
   },
   {
    "duration": 25,
    "start_time": "2023-08-18T14:56:23.102Z"
   },
   {
    "duration": 3548,
    "start_time": "2023-08-18T15:15:07.749Z"
   },
   {
    "duration": 52,
    "start_time": "2023-08-18T15:15:11.299Z"
   },
   {
    "duration": 26,
    "start_time": "2023-08-18T15:15:11.354Z"
   },
   {
    "duration": 14,
    "start_time": "2023-08-18T15:15:11.382Z"
   },
   {
    "duration": 7,
    "start_time": "2023-08-18T15:15:11.399Z"
   },
   {
    "duration": 31,
    "start_time": "2023-08-18T15:15:11.407Z"
   },
   {
    "duration": 9,
    "start_time": "2023-08-18T15:15:11.440Z"
   },
   {
    "duration": 5,
    "start_time": "2023-08-18T15:15:11.451Z"
   },
   {
    "duration": 8,
    "start_time": "2023-08-18T15:15:11.458Z"
   },
   {
    "duration": 18,
    "start_time": "2023-08-18T15:15:11.468Z"
   },
   {
    "duration": 15,
    "start_time": "2023-08-18T15:15:11.487Z"
   },
   {
    "duration": 10,
    "start_time": "2023-08-18T15:15:11.504Z"
   },
   {
    "duration": 17,
    "start_time": "2023-08-18T15:15:11.515Z"
   },
   {
    "duration": 17,
    "start_time": "2023-08-18T15:15:11.536Z"
   },
   {
    "duration": 19,
    "start_time": "2023-08-18T15:15:11.557Z"
   },
   {
    "duration": 5,
    "start_time": "2023-08-18T15:15:11.578Z"
   },
   {
    "duration": 11,
    "start_time": "2023-08-18T15:15:11.585Z"
   },
   {
    "duration": 16,
    "start_time": "2023-08-18T15:15:11.598Z"
   },
   {
    "duration": 10,
    "start_time": "2023-08-18T15:15:11.615Z"
   },
   {
    "duration": 23,
    "start_time": "2023-08-18T15:15:11.629Z"
   },
   {
    "duration": 14,
    "start_time": "2023-08-18T15:15:11.658Z"
   },
   {
    "duration": 14,
    "start_time": "2023-08-18T15:15:11.673Z"
   },
   {
    "duration": 16,
    "start_time": "2023-08-18T15:15:11.688Z"
   },
   {
    "duration": 3,
    "start_time": "2023-08-18T15:15:11.706Z"
   },
   {
    "duration": 184,
    "start_time": "2023-08-18T15:15:11.710Z"
   },
   {
    "duration": 10,
    "start_time": "2023-08-18T15:15:11.896Z"
   },
   {
    "duration": 6,
    "start_time": "2023-08-18T15:15:11.908Z"
   },
   {
    "duration": 14,
    "start_time": "2023-08-18T15:15:11.916Z"
   },
   {
    "duration": 898,
    "start_time": "2023-08-18T15:15:11.932Z"
   },
   {
    "duration": 102,
    "start_time": "2023-08-18T15:15:12.842Z"
   },
   {
    "duration": 372,
    "start_time": "2023-08-18T15:15:12.965Z"
   },
   {
    "duration": 13,
    "start_time": "2023-08-18T15:15:13.342Z"
   },
   {
    "duration": 17728,
    "start_time": "2023-08-18T15:15:13.357Z"
   },
   {
    "duration": 16,
    "start_time": "2023-08-18T15:15:31.087Z"
   },
   {
    "duration": 81,
    "start_time": "2023-08-18T15:15:31.105Z"
   },
   {
    "duration": 450,
    "start_time": "2023-08-18T15:15:31.188Z"
   },
   {
    "duration": 308,
    "start_time": "2023-08-18T15:15:31.640Z"
   },
   {
    "duration": 16895,
    "start_time": "2023-08-18T15:15:31.949Z"
   },
   {
    "duration": 923,
    "start_time": "2023-08-18T15:15:48.847Z"
   },
   {
    "duration": 76,
    "start_time": "2023-08-18T15:15:49.772Z"
   },
   {
    "duration": 351,
    "start_time": "2023-08-18T15:15:49.854Z"
   },
   {
    "duration": 7,
    "start_time": "2023-08-18T15:15:50.207Z"
   },
   {
    "duration": 17652,
    "start_time": "2023-08-18T15:15:50.215Z"
   },
   {
    "duration": 22,
    "start_time": "2023-08-18T15:16:07.869Z"
   },
   {
    "duration": 4,
    "start_time": "2023-08-18T15:16:07.892Z"
   },
   {
    "duration": 11,
    "start_time": "2023-08-18T15:16:07.897Z"
   },
   {
    "duration": 34,
    "start_time": "2023-08-18T15:16:07.910Z"
   },
   {
    "duration": 111,
    "start_time": "2023-08-18T15:16:07.953Z"
   },
   {
    "duration": 1093,
    "start_time": "2023-08-18T15:16:08.069Z"
   },
   {
    "duration": 67,
    "start_time": "2023-08-18T15:16:09.165Z"
   },
   {
    "duration": 418,
    "start_time": "2023-08-18T15:16:09.234Z"
   },
   {
    "duration": 10,
    "start_time": "2023-08-18T15:16:09.657Z"
   },
   {
    "duration": 23325,
    "start_time": "2023-08-18T15:16:09.669Z"
   },
   {
    "duration": 62,
    "start_time": "2023-08-18T15:16:32.996Z"
   },
   {
    "duration": 6,
    "start_time": "2023-08-18T15:16:33.061Z"
   },
   {
    "duration": 127,
    "start_time": "2023-08-18T15:16:33.069Z"
   },
   {
    "duration": 1065,
    "start_time": "2023-08-18T15:16:33.198Z"
   },
   {
    "duration": 195,
    "start_time": "2023-08-18T15:16:34.265Z"
   },
   {
    "duration": 289,
    "start_time": "2023-08-18T15:16:34.466Z"
   },
   {
    "duration": 31,
    "start_time": "2023-08-18T15:16:34.760Z"
   },
   {
    "duration": 18049,
    "start_time": "2023-08-18T15:16:34.793Z"
   },
   {
    "duration": 42,
    "start_time": "2023-08-18T15:16:52.844Z"
   },
   {
    "duration": 17956,
    "start_time": "2023-08-18T15:16:52.888Z"
   },
   {
    "duration": 50,
    "start_time": "2023-08-18T15:17:10.851Z"
   },
   {
    "duration": 33,
    "start_time": "2023-08-18T15:17:10.903Z"
   },
   {
    "duration": 1832,
    "start_time": "2023-08-19T08:39:11.971Z"
   },
   {
    "duration": 108,
    "start_time": "2023-08-19T08:39:13.805Z"
   },
   {
    "duration": 24,
    "start_time": "2023-08-19T08:39:13.915Z"
   },
   {
    "duration": 133,
    "start_time": "2023-08-19T08:39:13.942Z"
   },
   {
    "duration": 8,
    "start_time": "2023-08-19T08:39:14.077Z"
   },
   {
    "duration": 4,
    "start_time": "2023-08-19T08:39:14.087Z"
   },
   {
    "duration": 28,
    "start_time": "2023-08-19T08:39:14.093Z"
   },
   {
    "duration": 4,
    "start_time": "2023-08-19T08:39:14.124Z"
   },
   {
    "duration": 9,
    "start_time": "2023-08-19T08:39:14.130Z"
   },
   {
    "duration": 13,
    "start_time": "2023-08-19T08:39:14.154Z"
   },
   {
    "duration": 24,
    "start_time": "2023-08-19T08:39:14.170Z"
   },
   {
    "duration": 14,
    "start_time": "2023-08-19T08:39:14.196Z"
   },
   {
    "duration": 7,
    "start_time": "2023-08-19T08:39:14.212Z"
   },
   {
    "duration": 10,
    "start_time": "2023-08-19T08:39:14.221Z"
   },
   {
    "duration": 28,
    "start_time": "2023-08-19T08:39:14.234Z"
   },
   {
    "duration": 13,
    "start_time": "2023-08-19T08:39:14.268Z"
   },
   {
    "duration": 5,
    "start_time": "2023-08-19T08:39:14.282Z"
   },
   {
    "duration": 20,
    "start_time": "2023-08-19T08:39:14.288Z"
   },
   {
    "duration": 9,
    "start_time": "2023-08-19T08:39:14.311Z"
   },
   {
    "duration": 31,
    "start_time": "2023-08-19T08:39:14.321Z"
   },
   {
    "duration": 12,
    "start_time": "2023-08-19T08:39:14.355Z"
   },
   {
    "duration": 15,
    "start_time": "2023-08-19T08:39:14.369Z"
   },
   {
    "duration": 12,
    "start_time": "2023-08-19T08:39:14.386Z"
   },
   {
    "duration": 5,
    "start_time": "2023-08-19T08:39:14.400Z"
   },
   {
    "duration": 171,
    "start_time": "2023-08-19T08:39:14.407Z"
   },
   {
    "duration": 10,
    "start_time": "2023-08-19T08:39:14.580Z"
   },
   {
    "duration": 8,
    "start_time": "2023-08-19T08:39:14.591Z"
   },
   {
    "duration": 4,
    "start_time": "2023-08-19T08:39:14.602Z"
   },
   {
    "duration": 950,
    "start_time": "2023-08-19T08:39:14.607Z"
   },
   {
    "duration": 10,
    "start_time": "2023-08-19T08:39:15.559Z"
   },
   {
    "duration": 387,
    "start_time": "2023-08-19T08:39:15.571Z"
   },
   {
    "duration": 9,
    "start_time": "2023-08-19T08:39:15.959Z"
   },
   {
    "duration": 16232,
    "start_time": "2023-08-19T08:39:15.971Z"
   },
   {
    "duration": 21,
    "start_time": "2023-08-19T08:39:32.205Z"
   },
   {
    "duration": 11,
    "start_time": "2023-08-19T08:40:17.034Z"
   },
   {
    "duration": 161,
    "start_time": "2023-08-19T08:47:36.506Z"
   },
   {
    "duration": 132,
    "start_time": "2023-08-19T08:48:24.488Z"
   },
   {
    "duration": 5,
    "start_time": "2023-08-19T08:50:02.342Z"
   },
   {
    "duration": 72,
    "start_time": "2023-08-19T08:50:02.350Z"
   },
   {
    "duration": 23,
    "start_time": "2023-08-19T08:50:02.424Z"
   },
   {
    "duration": 46,
    "start_time": "2023-08-19T08:50:02.449Z"
   },
   {
    "duration": 21,
    "start_time": "2023-08-19T08:50:02.498Z"
   },
   {
    "duration": 4,
    "start_time": "2023-08-19T08:50:02.521Z"
   },
   {
    "duration": 33,
    "start_time": "2023-08-19T08:50:02.528Z"
   },
   {
    "duration": 6,
    "start_time": "2023-08-19T08:50:02.564Z"
   },
   {
    "duration": 8,
    "start_time": "2023-08-19T08:50:02.572Z"
   },
   {
    "duration": 6,
    "start_time": "2023-08-19T08:50:02.583Z"
   },
   {
    "duration": 25,
    "start_time": "2023-08-19T08:50:02.594Z"
   },
   {
    "duration": 19,
    "start_time": "2023-08-19T08:50:02.622Z"
   },
   {
    "duration": 10,
    "start_time": "2023-08-19T08:50:02.642Z"
   },
   {
    "duration": 15,
    "start_time": "2023-08-19T08:50:02.654Z"
   },
   {
    "duration": 27,
    "start_time": "2023-08-19T08:50:02.671Z"
   },
   {
    "duration": 6,
    "start_time": "2023-08-19T08:50:02.700Z"
   },
   {
    "duration": 4,
    "start_time": "2023-08-19T08:50:02.708Z"
   },
   {
    "duration": 13,
    "start_time": "2023-08-19T08:50:02.714Z"
   },
   {
    "duration": 4,
    "start_time": "2023-08-19T08:50:02.729Z"
   },
   {
    "duration": 41,
    "start_time": "2023-08-19T08:50:02.734Z"
   },
   {
    "duration": 9,
    "start_time": "2023-08-19T08:50:02.777Z"
   },
   {
    "duration": 14,
    "start_time": "2023-08-19T08:50:02.788Z"
   },
   {
    "duration": 15,
    "start_time": "2023-08-19T08:50:02.803Z"
   },
   {
    "duration": 5,
    "start_time": "2023-08-19T08:50:02.820Z"
   },
   {
    "duration": 151,
    "start_time": "2023-08-19T08:50:02.827Z"
   },
   {
    "duration": 16,
    "start_time": "2023-08-19T08:50:02.980Z"
   },
   {
    "duration": 16,
    "start_time": "2023-08-19T08:50:03.001Z"
   },
   {
    "duration": 6,
    "start_time": "2023-08-19T08:50:03.019Z"
   },
   {
    "duration": 930,
    "start_time": "2023-08-19T08:50:03.030Z"
   },
   {
    "duration": 31,
    "start_time": "2023-08-19T08:50:03.965Z"
   },
   {
    "duration": 381,
    "start_time": "2023-08-19T08:50:04.052Z"
   },
   {
    "duration": 8,
    "start_time": "2023-08-19T08:50:04.435Z"
   },
   {
    "duration": 19200,
    "start_time": "2023-08-19T08:50:04.449Z"
   },
   {
    "duration": 16,
    "start_time": "2023-08-19T08:50:23.651Z"
   },
   {
    "duration": 39,
    "start_time": "2023-08-19T08:50:23.669Z"
   },
   {
    "duration": 187,
    "start_time": "2023-08-19T08:50:23.714Z"
   },
   {
    "duration": 344,
    "start_time": "2023-08-19T08:50:23.914Z"
   },
   {
    "duration": 18376,
    "start_time": "2023-08-19T08:50:24.263Z"
   },
   {
    "duration": 284,
    "start_time": "2023-08-19T08:50:48.306Z"
   },
   {
    "duration": 49,
    "start_time": "2023-08-19T08:51:14.249Z"
   },
   {
    "duration": 257,
    "start_time": "2023-08-19T08:51:43.115Z"
   },
   {
    "duration": 18,
    "start_time": "2023-08-19T08:51:52.374Z"
   },
   {
    "duration": 238,
    "start_time": "2023-08-19T08:52:00.487Z"
   },
   {
    "duration": 17159,
    "start_time": "2023-08-19T08:52:57.488Z"
   },
   {
    "duration": 23,
    "start_time": "2023-08-19T08:53:18.195Z"
   },
   {
    "duration": 154,
    "start_time": "2023-08-19T08:54:37.569Z"
   },
   {
    "duration": 8,
    "start_time": "2023-08-19T08:55:02.290Z"
   },
   {
    "duration": 4,
    "start_time": "2023-08-19T08:55:05.818Z"
   },
   {
    "duration": 4,
    "start_time": "2023-08-19T08:55:19.488Z"
   },
   {
    "duration": 22,
    "start_time": "2023-08-19T08:55:39.085Z"
   },
   {
    "duration": 20,
    "start_time": "2023-08-19T08:57:21.247Z"
   },
   {
    "duration": 15,
    "start_time": "2023-08-19T08:58:56.721Z"
   },
   {
    "duration": 120,
    "start_time": "2023-08-19T08:59:00.282Z"
   },
   {
    "duration": 13,
    "start_time": "2023-08-19T09:00:15.176Z"
   },
   {
    "duration": 484,
    "start_time": "2023-08-19T09:01:05.193Z"
   },
   {
    "duration": 14,
    "start_time": "2023-08-19T09:01:29.272Z"
   },
   {
    "duration": 231,
    "start_time": "2023-08-19T09:02:07.607Z"
   },
   {
    "duration": 9,
    "start_time": "2023-08-19T09:02:09.184Z"
   },
   {
    "duration": 21114,
    "start_time": "2023-08-19T09:02:28.429Z"
   },
   {
    "duration": 36,
    "start_time": "2023-08-19T09:02:54.179Z"
   },
   {
    "duration": 5,
    "start_time": "2023-08-19T09:03:37.815Z"
   },
   {
    "duration": 17,
    "start_time": "2023-08-19T09:04:29.338Z"
   },
   {
    "duration": 4,
    "start_time": "2023-08-19T09:04:39.035Z"
   },
   {
    "duration": 307,
    "start_time": "2023-08-19T09:06:22.865Z"
   },
   {
    "duration": 142,
    "start_time": "2023-08-19T09:06:26.237Z"
   },
   {
    "duration": 199,
    "start_time": "2023-08-19T09:06:53.696Z"
   },
   {
    "duration": 27,
    "start_time": "2023-08-19T09:06:56.097Z"
   },
   {
    "duration": 15302,
    "start_time": "2023-08-19T09:07:25.307Z"
   },
   {
    "duration": 26,
    "start_time": "2023-08-19T09:07:43.629Z"
   },
   {
    "duration": 15505,
    "start_time": "2023-08-19T09:08:34.682Z"
   },
   {
    "duration": 39,
    "start_time": "2023-08-19T09:09:06.188Z"
   },
   {
    "duration": 20,
    "start_time": "2023-08-19T09:09:18.777Z"
   }
  ],
  "kernelspec": {
   "display_name": "Python 3 (ipykernel)",
   "language": "python",
   "name": "python3"
  },
  "language_info": {
   "codemirror_mode": {
    "name": "ipython",
    "version": 3
   },
   "file_extension": ".py",
   "mimetype": "text/x-python",
   "name": "python",
   "nbconvert_exporter": "python",
   "pygments_lexer": "ipython3",
   "version": "3.9.16"
  },
  "toc": {
   "base_numbering": 1,
   "nav_menu": {},
   "number_sections": true,
   "sideBar": true,
   "skip_h1_title": true,
   "title_cell": "Содержание",
   "title_sidebar": "Contents",
   "toc_cell": true,
   "toc_position": {
    "height": "calc(100% - 180px)",
    "left": "10px",
    "top": "150px",
    "width": "359.391px"
   },
   "toc_section_display": true,
   "toc_window_display": true
  },
  "varInspector": {
   "cols": {
    "lenName": 16,
    "lenType": 16,
    "lenVar": 40
   },
   "kernels_config": {
    "python": {
     "delete_cmd_postfix": "",
     "delete_cmd_prefix": "del ",
     "library": "var_list.py",
     "varRefreshCmd": "print(var_dic_list())"
    },
    "r": {
     "delete_cmd_postfix": ") ",
     "delete_cmd_prefix": "rm(",
     "library": "var_list.r",
     "varRefreshCmd": "cat(var_dic_list()) "
    }
   },
   "types_to_exclude": [
    "module",
    "function",
    "builtin_function_or_method",
    "instance",
    "_Feature"
   ],
   "window_display": false
  }
 },
 "nbformat": 4,
 "nbformat_minor": 2
}
